{
 "cells": [
  {
   "cell_type": "code",
   "execution_count": 1,
   "metadata": {},
   "outputs": [],
   "source": [
    "import pandas as pd\n",
    "import matplotlib.pyplot as plt\n",
    "import matplotlib as mpl\n",
    "import numpy as np\n",
    "import seaborn as sns\n",
    "from scipy import stats\n",
    "import os\n",
    "import model_evaluation_utils as meu\n",
    "import sklearn\n",
    "from sklearn.model_selection import train_test_split\n",
    "from sklearn.preprocessing import StandardScaler\n",
    "from sklearn.preprocessing import MinMaxScaler\n",
    "from sklearn.preprocessing import LabelEncoder\n",
    "from sklearn.preprocessing import PolynomialFeatures\n",
    "#from sklearn.preprocessing import get_feature_names\n",
    "from collections import Counter\n",
    "\n",
    "%matplotlib inline\n",
    "import pickle\n",
    "import warnings"
   ]
  },
  {
   "cell_type": "code",
   "execution_count": 2,
   "metadata": {},
   "outputs": [
    {
     "data": {
      "text/plain": [
       "'C:\\\\Users\\\\mstre\\\\Dropbox\\\\0Big_data\\\\Other_proj\\\\05 Data Science Interview'"
      ]
     },
     "execution_count": 2,
     "metadata": {},
     "output_type": "execute_result"
    }
   ],
   "source": [
    "cwd = os.getcwd()\n",
    "cwd"
   ]
  },
  {
   "cell_type": "code",
   "execution_count": 3,
   "metadata": {},
   "outputs": [],
   "source": [
    "stroke_pred1 = pd.read_csv('stroke_pred.csv', sep = \",\")"
   ]
  },
  {
   "cell_type": "code",
   "execution_count": 4,
   "metadata": {},
   "outputs": [
    {
     "data": {
      "text/html": [
       "<div>\n",
       "<style scoped>\n",
       "    .dataframe tbody tr th:only-of-type {\n",
       "        vertical-align: middle;\n",
       "    }\n",
       "\n",
       "    .dataframe tbody tr th {\n",
       "        vertical-align: top;\n",
       "    }\n",
       "\n",
       "    .dataframe thead th {\n",
       "        text-align: right;\n",
       "    }\n",
       "</style>\n",
       "<table border=\"1\" class=\"dataframe\">\n",
       "  <thead>\n",
       "    <tr style=\"text-align: right;\">\n",
       "      <th></th>\n",
       "      <th>Gender</th>\n",
       "      <th>Age</th>\n",
       "      <th>Hypertension</th>\n",
       "      <th>Heart_Disease</th>\n",
       "      <th>Ever_Married</th>\n",
       "      <th>Type_Of_Work</th>\n",
       "      <th>Residence</th>\n",
       "      <th>Avg_Glucose</th>\n",
       "      <th>BMI</th>\n",
       "      <th>Smoking_Status</th>\n",
       "      <th>Stroke</th>\n",
       "    </tr>\n",
       "  </thead>\n",
       "  <tbody>\n",
       "    <tr>\n",
       "      <th>0</th>\n",
       "      <td>Male</td>\n",
       "      <td>3.024658</td>\n",
       "      <td>0</td>\n",
       "      <td>0</td>\n",
       "      <td>No</td>\n",
       "      <td>children</td>\n",
       "      <td>Rural</td>\n",
       "      <td>95.12</td>\n",
       "      <td>18.0</td>\n",
       "      <td>never smoked</td>\n",
       "      <td>0</td>\n",
       "    </tr>\n",
       "    <tr>\n",
       "      <th>1</th>\n",
       "      <td>Male</td>\n",
       "      <td>58.093151</td>\n",
       "      <td>1</td>\n",
       "      <td>0</td>\n",
       "      <td>Yes</td>\n",
       "      <td>Private</td>\n",
       "      <td>Urban</td>\n",
       "      <td>87.96</td>\n",
       "      <td>39.2</td>\n",
       "      <td>never smoked</td>\n",
       "      <td>0</td>\n",
       "    </tr>\n",
       "    <tr>\n",
       "      <th>2</th>\n",
       "      <td>Female</td>\n",
       "      <td>8.021918</td>\n",
       "      <td>0</td>\n",
       "      <td>0</td>\n",
       "      <td>No</td>\n",
       "      <td>Private</td>\n",
       "      <td>Urban</td>\n",
       "      <td>110.89</td>\n",
       "      <td>17.6</td>\n",
       "      <td>never smoked</td>\n",
       "      <td>0</td>\n",
       "    </tr>\n",
       "    <tr>\n",
       "      <th>3</th>\n",
       "      <td>Female</td>\n",
       "      <td>70.076712</td>\n",
       "      <td>0</td>\n",
       "      <td>0</td>\n",
       "      <td>Yes</td>\n",
       "      <td>Private</td>\n",
       "      <td>Rural</td>\n",
       "      <td>69.04</td>\n",
       "      <td>35.9</td>\n",
       "      <td>formerly smoked</td>\n",
       "      <td>0</td>\n",
       "    </tr>\n",
       "    <tr>\n",
       "      <th>4</th>\n",
       "      <td>Male</td>\n",
       "      <td>14.049315</td>\n",
       "      <td>0</td>\n",
       "      <td>0</td>\n",
       "      <td>No</td>\n",
       "      <td>Never_worked</td>\n",
       "      <td>Rural</td>\n",
       "      <td>161.28</td>\n",
       "      <td>19.1</td>\n",
       "      <td>unknown</td>\n",
       "      <td>0</td>\n",
       "    </tr>\n",
       "  </tbody>\n",
       "</table>\n",
       "</div>"
      ],
      "text/plain": [
       "   Gender        Age  Hypertension  Heart_Disease Ever_Married  Type_Of_Work  \\\n",
       "0    Male   3.024658             0              0           No      children   \n",
       "1    Male  58.093151             1              0          Yes       Private   \n",
       "2  Female   8.021918             0              0           No       Private   \n",
       "3  Female  70.076712             0              0          Yes       Private   \n",
       "4    Male  14.049315             0              0           No  Never_worked   \n",
       "\n",
       "  Residence  Avg_Glucose   BMI   Smoking_Status  Stroke  \n",
       "0     Rural        95.12  18.0     never smoked       0  \n",
       "1     Urban        87.96  39.2     never smoked       0  \n",
       "2     Urban       110.89  17.6     never smoked       0  \n",
       "3     Rural        69.04  35.9  formerly smoked       0  \n",
       "4     Rural       161.28  19.1          unknown       0  "
      ]
     },
     "execution_count": 4,
     "metadata": {},
     "output_type": "execute_result"
    }
   ],
   "source": [
    "stroke_pred1.head()"
   ]
  },
  {
   "cell_type": "code",
   "execution_count": 6,
   "metadata": {},
   "outputs": [
    {
     "data": {
      "text/plain": [
       "Gender             object\n",
       "Age               float64\n",
       "Hypertension        int64\n",
       "Heart_Disease       int64\n",
       "Ever_Married       object\n",
       "Type_Of_Work       object\n",
       "Residence          object\n",
       "Avg_Glucose       float64\n",
       "BMI               float64\n",
       "Smoking_Status     object\n",
       "Stroke              int64\n",
       "dtype: object"
      ]
     },
     "execution_count": 6,
     "metadata": {},
     "output_type": "execute_result"
    }
   ],
   "source": [
    "stroke_pred1.dtypes"
   ]
  },
  {
   "cell_type": "markdown",
   "metadata": {},
   "source": [
    "We will have two approaches for data preparation and simple modelling: \n",
    "\n",
    "**1. This notebook (2Data_Prep_Simple_Model_Sklearn)**\n",
    "- We will binarize, normalize and scale the data as this is a requirement for Sklearn \n",
    "to use Logistic Regression, Random forest,  SVM, XGboost (...). \n",
    "- We will rebalance the class to address the imbalance problem (Stroke vs non Stroke)\n",
    "- We will try some features enhancements\n",
    "- If time allows, we will select the best features\n",
    "\n",
    "**2. Another notebook (3Data_Prep_Simple_Model_H20) **\n",
    "- We will use the data \"as is\" using H20 Random Forest and Gradient Boosting methods since \n",
    "those algorithms handle well mix of categorical and continuous variables without binarization and scaling.\n",
    "- We will rebalance the class to address the imbalance problem (Stroke vs non Stroke)\n"
   ]
  },
  {
   "cell_type": "markdown",
   "metadata": {},
   "source": [
    "**This notebook: our Modelling plan:** \n",
    "    1. Binarize all the categorical data  \n",
    "    2. Train / test split\n",
    "    3. Standardize, normalize the numeric data\n",
    "    4. Test simple model\n",
    "    4.1 Log regression ignoring class rebalancing (Naive)\n",
    "    4.2 Log regression+class rebalancing\n",
    "    4.3 Log regression+class rebalancing+new features using polynomial \n",
    "    4.4 Log regression+class rebalancing+new features using polynomial + feature selection\n",
    "      - Test different features selection method (statistics, wrapper, model, random forest, PCA)\n",
    "    5. Try binning some features to see if we can improve our simple model.\n",
    " \n",
    " \n",
    " \n",
    "**Next Jupyter Notebook**\n",
    "    6. Model comparisons\n",
    "    7. Model comparisons results\n",
    "    8. Model explainability\n",
    "       8.1 Feature importance \n",
    "       8.2 Lime\n",
    "       8.3 Shap"
   ]
  },
  {
   "cell_type": "markdown",
   "metadata": {},
   "source": [
    "# 3. Data Preparation and Simple Modelling"
   ]
  },
  {
   "cell_type": "markdown",
   "metadata": {},
   "source": [
    "## 1. Hotencoding of categorical data "
   ]
  },
  {
   "cell_type": "code",
   "execution_count": 5,
   "metadata": {},
   "outputs": [
    {
     "data": {
      "text/html": [
       "<div>\n",
       "<style scoped>\n",
       "    .dataframe tbody tr th:only-of-type {\n",
       "        vertical-align: middle;\n",
       "    }\n",
       "\n",
       "    .dataframe tbody tr th {\n",
       "        vertical-align: top;\n",
       "    }\n",
       "\n",
       "    .dataframe thead th {\n",
       "        text-align: right;\n",
       "    }\n",
       "</style>\n",
       "<table border=\"1\" class=\"dataframe\">\n",
       "  <thead>\n",
       "    <tr style=\"text-align: right;\">\n",
       "      <th></th>\n",
       "      <th>Hypertension_1</th>\n",
       "      <th>Heart_Disease_1</th>\n",
       "      <th>Gender_Male</th>\n",
       "      <th>Ever_Married_Yes</th>\n",
       "      <th>Type_Of_Work_Never_worked</th>\n",
       "      <th>Type_Of_Work_Private</th>\n",
       "      <th>Type_Of_Work_Self-employed</th>\n",
       "      <th>Type_Of_Work_children</th>\n",
       "      <th>Residence_Urban</th>\n",
       "      <th>Smoking_Status_never smoked</th>\n",
       "      <th>Smoking_Status_smokes</th>\n",
       "      <th>Smoking_Status_unknown</th>\n",
       "      <th>Age</th>\n",
       "      <th>Avg_Glucose</th>\n",
       "      <th>BMI</th>\n",
       "      <th>Stroke</th>\n",
       "    </tr>\n",
       "  </thead>\n",
       "  <tbody>\n",
       "    <tr>\n",
       "      <th>0</th>\n",
       "      <td>0</td>\n",
       "      <td>0</td>\n",
       "      <td>1</td>\n",
       "      <td>0</td>\n",
       "      <td>0</td>\n",
       "      <td>0</td>\n",
       "      <td>0</td>\n",
       "      <td>1</td>\n",
       "      <td>0</td>\n",
       "      <td>1</td>\n",
       "      <td>0</td>\n",
       "      <td>0</td>\n",
       "      <td>3.024658</td>\n",
       "      <td>95.12</td>\n",
       "      <td>18.0</td>\n",
       "      <td>0</td>\n",
       "    </tr>\n",
       "    <tr>\n",
       "      <th>1</th>\n",
       "      <td>1</td>\n",
       "      <td>0</td>\n",
       "      <td>1</td>\n",
       "      <td>1</td>\n",
       "      <td>0</td>\n",
       "      <td>1</td>\n",
       "      <td>0</td>\n",
       "      <td>0</td>\n",
       "      <td>1</td>\n",
       "      <td>1</td>\n",
       "      <td>0</td>\n",
       "      <td>0</td>\n",
       "      <td>58.093151</td>\n",
       "      <td>87.96</td>\n",
       "      <td>39.2</td>\n",
       "      <td>0</td>\n",
       "    </tr>\n",
       "    <tr>\n",
       "      <th>2</th>\n",
       "      <td>0</td>\n",
       "      <td>0</td>\n",
       "      <td>0</td>\n",
       "      <td>0</td>\n",
       "      <td>0</td>\n",
       "      <td>1</td>\n",
       "      <td>0</td>\n",
       "      <td>0</td>\n",
       "      <td>1</td>\n",
       "      <td>1</td>\n",
       "      <td>0</td>\n",
       "      <td>0</td>\n",
       "      <td>8.021918</td>\n",
       "      <td>110.89</td>\n",
       "      <td>17.6</td>\n",
       "      <td>0</td>\n",
       "    </tr>\n",
       "    <tr>\n",
       "      <th>3</th>\n",
       "      <td>0</td>\n",
       "      <td>0</td>\n",
       "      <td>0</td>\n",
       "      <td>1</td>\n",
       "      <td>0</td>\n",
       "      <td>1</td>\n",
       "      <td>0</td>\n",
       "      <td>0</td>\n",
       "      <td>0</td>\n",
       "      <td>0</td>\n",
       "      <td>0</td>\n",
       "      <td>0</td>\n",
       "      <td>70.076712</td>\n",
       "      <td>69.04</td>\n",
       "      <td>35.9</td>\n",
       "      <td>0</td>\n",
       "    </tr>\n",
       "    <tr>\n",
       "      <th>4</th>\n",
       "      <td>0</td>\n",
       "      <td>0</td>\n",
       "      <td>1</td>\n",
       "      <td>0</td>\n",
       "      <td>1</td>\n",
       "      <td>0</td>\n",
       "      <td>0</td>\n",
       "      <td>0</td>\n",
       "      <td>0</td>\n",
       "      <td>0</td>\n",
       "      <td>0</td>\n",
       "      <td>1</td>\n",
       "      <td>14.049315</td>\n",
       "      <td>161.28</td>\n",
       "      <td>19.1</td>\n",
       "      <td>0</td>\n",
       "    </tr>\n",
       "  </tbody>\n",
       "</table>\n",
       "</div>"
      ],
      "text/plain": [
       "   Hypertension_1  Heart_Disease_1  Gender_Male  Ever_Married_Yes  \\\n",
       "0               0                0            1                 0   \n",
       "1               1                0            1                 1   \n",
       "2               0                0            0                 0   \n",
       "3               0                0            0                 1   \n",
       "4               0                0            1                 0   \n",
       "\n",
       "   Type_Of_Work_Never_worked  Type_Of_Work_Private  \\\n",
       "0                          0                     0   \n",
       "1                          0                     1   \n",
       "2                          0                     1   \n",
       "3                          0                     1   \n",
       "4                          1                     0   \n",
       "\n",
       "   Type_Of_Work_Self-employed  Type_Of_Work_children  Residence_Urban  \\\n",
       "0                           0                      1                0   \n",
       "1                           0                      0                1   \n",
       "2                           0                      0                1   \n",
       "3                           0                      0                0   \n",
       "4                           0                      0                0   \n",
       "\n",
       "   Smoking_Status_never smoked  Smoking_Status_smokes  Smoking_Status_unknown  \\\n",
       "0                            1                      0                       0   \n",
       "1                            1                      0                       0   \n",
       "2                            1                      0                       0   \n",
       "3                            0                      0                       0   \n",
       "4                            0                      0                       1   \n",
       "\n",
       "         Age  Avg_Glucose   BMI  Stroke  \n",
       "0   3.024658        95.12  18.0       0  \n",
       "1  58.093151        87.96  39.2       0  \n",
       "2   8.021918       110.89  17.6       0  \n",
       "3  70.076712        69.04  35.9       0  \n",
       "4  14.049315       161.28  19.1       0  "
      ]
     },
     "execution_count": 5,
     "metadata": {},
     "output_type": "execute_result"
    }
   ],
   "source": [
    "# using get_dummies to one hot encode\n",
    "stroke_pred1= pd.get_dummies(stroke_pred1, columns=['Hypertension', 'Heart_Disease', 'Gender', \n",
    "                                                    'Ever_Married','Type_Of_Work','Residence',\n",
    "                                                    'Smoking_Status'], drop_first=True)\n",
    "cols = stroke_pred1.columns.tolist()\n",
    "cols= cols[4:] + cols[:4]\n",
    "stroke_pred1 = stroke_pred1[cols] \n",
    "stroke_pred1.head()"
   ]
  },
  {
   "cell_type": "code",
   "execution_count": 6,
   "metadata": {},
   "outputs": [
    {
     "data": {
      "text/plain": [
       "(43383, 16)"
      ]
     },
     "execution_count": 6,
     "metadata": {},
     "output_type": "execute_result"
    }
   ],
   "source": [
    "stroke_pred1.shape"
   ]
  },
  {
   "cell_type": "code",
   "execution_count": 108,
   "metadata": {},
   "outputs": [
    {
     "data": {
      "text/html": [
       "<div>\n",
       "<style scoped>\n",
       "    .dataframe tbody tr th:only-of-type {\n",
       "        vertical-align: middle;\n",
       "    }\n",
       "\n",
       "    .dataframe tbody tr th {\n",
       "        vertical-align: top;\n",
       "    }\n",
       "\n",
       "    .dataframe thead th {\n",
       "        text-align: right;\n",
       "    }\n",
       "</style>\n",
       "<table border=\"1\" class=\"dataframe\">\n",
       "  <thead>\n",
       "    <tr style=\"text-align: right;\">\n",
       "      <th></th>\n",
       "      <th>Hypertension_1</th>\n",
       "      <th>Heart_Disease_1</th>\n",
       "      <th>Gender_Male</th>\n",
       "      <th>Ever_Married_Yes</th>\n",
       "      <th>Type_Of_Work_Never_worked</th>\n",
       "      <th>Type_Of_Work_Private</th>\n",
       "      <th>Type_Of_Work_Self-employed</th>\n",
       "      <th>Type_Of_Work_children</th>\n",
       "      <th>Residence_Urban</th>\n",
       "      <th>Smoking_Status_never smoked</th>\n",
       "      <th>Smoking_Status_smokes</th>\n",
       "      <th>Smoking_Status_unknown</th>\n",
       "      <th>Age</th>\n",
       "      <th>Avg_Glucose</th>\n",
       "      <th>BMI</th>\n",
       "      <th>Stroke</th>\n",
       "    </tr>\n",
       "  </thead>\n",
       "  <tbody>\n",
       "    <tr>\n",
       "      <th>sum</th>\n",
       "      <td>4061.000000</td>\n",
       "      <td>2062.00000</td>\n",
       "      <td>17721.000000</td>\n",
       "      <td>27931.000000</td>\n",
       "      <td>176.000000</td>\n",
       "      <td>24824.000000</td>\n",
       "      <td>6793.000000</td>\n",
       "      <td>6154.000000</td>\n",
       "      <td>21749.000000</td>\n",
       "      <td>20336.000000</td>\n",
       "      <td>6560.000000</td>\n",
       "      <td>9001.000000</td>\n",
       "      <td>1.834669e+06</td>\n",
       "      <td>4.533094e+06</td>\n",
       "      <td>1.240995e+06</td>\n",
       "      <td>783.000000</td>\n",
       "    </tr>\n",
       "    <tr>\n",
       "      <th>mean</th>\n",
       "      <td>0.093608</td>\n",
       "      <td>0.04753</td>\n",
       "      <td>0.408478</td>\n",
       "      <td>0.643824</td>\n",
       "      <td>0.004057</td>\n",
       "      <td>0.572206</td>\n",
       "      <td>0.156582</td>\n",
       "      <td>0.141853</td>\n",
       "      <td>0.501325</td>\n",
       "      <td>0.468755</td>\n",
       "      <td>0.151211</td>\n",
       "      <td>0.207478</td>\n",
       "      <td>4.229003e+01</td>\n",
       "      <td>1.044901e+02</td>\n",
       "      <td>2.860556e+01</td>\n",
       "      <td>0.018049</td>\n",
       "    </tr>\n",
       "  </tbody>\n",
       "</table>\n",
       "</div>"
      ],
      "text/plain": [
       "      Hypertension_1  Heart_Disease_1   Gender_Male  Ever_Married_Yes  \\\n",
       "sum      4061.000000       2062.00000  17721.000000      27931.000000   \n",
       "mean        0.093608          0.04753      0.408478          0.643824   \n",
       "\n",
       "      Type_Of_Work_Never_worked  Type_Of_Work_Private  \\\n",
       "sum                  176.000000          24824.000000   \n",
       "mean                   0.004057              0.572206   \n",
       "\n",
       "      Type_Of_Work_Self-employed  Type_Of_Work_children  Residence_Urban  \\\n",
       "sum                  6793.000000            6154.000000     21749.000000   \n",
       "mean                    0.156582               0.141853         0.501325   \n",
       "\n",
       "      Smoking_Status_never smoked  Smoking_Status_smokes  \\\n",
       "sum                  20336.000000            6560.000000   \n",
       "mean                     0.468755               0.151211   \n",
       "\n",
       "      Smoking_Status_unknown           Age   Avg_Glucose           BMI  \\\n",
       "sum              9001.000000  1.834669e+06  4.533094e+06  1.240995e+06   \n",
       "mean                0.207478  4.229003e+01  1.044901e+02  2.860556e+01   \n",
       "\n",
       "          Stroke  \n",
       "sum   783.000000  \n",
       "mean    0.018049  "
      ]
     },
     "execution_count": 108,
     "metadata": {},
     "output_type": "execute_result"
    }
   ],
   "source": [
    "df=stroke_pred1\n",
    "df=df.append(df.agg(['sum', 'mean']))\n",
    "df.tail(2)"
   ]
  },
  {
   "cell_type": "code",
   "execution_count": 9,
   "metadata": {},
   "outputs": [
    {
     "data": {
      "text/plain": [
       "Hypertension_1                 4.061000e+03\n",
       "Heart_Disease_1                2.062000e+03\n",
       "Gender_Male                    1.772100e+04\n",
       "Ever_Married_Yes               2.793100e+04\n",
       "Type_Of_Work_Never_worked      1.760000e+02\n",
       "Type_Of_Work_Private           2.482400e+04\n",
       "Type_Of_Work_Self-employed     6.793000e+03\n",
       "Type_Of_Work_children          6.154000e+03\n",
       "Residence_Urban                2.174900e+04\n",
       "Smoking_Status_never smoked    2.033600e+04\n",
       "Smoking_Status_smokes          6.560000e+03\n",
       "Smoking_Status_unknown         9.001000e+03\n",
       "Age                            1.834669e+06\n",
       "Avg_Glucose                    4.533094e+06\n",
       "BMI                            1.240995e+06\n",
       "Stroke                         7.830000e+02\n",
       "dtype: float64"
      ]
     },
     "execution_count": 9,
     "metadata": {},
     "output_type": "execute_result"
    }
   ],
   "source": [
    "stroke_pred1.sum()"
   ]
  },
  {
   "cell_type": "code",
   "execution_count": 118,
   "metadata": {},
   "outputs": [
    {
     "data": {
      "image/png": "[encoded data removed]",
      "text/plain": [
       "<Figure size 432x288 with 16 Axes>"
      ]
     },
     "metadata": {},
     "output_type": "display_data"
    }
   ],
   "source": [
    "stroke_pred1.hist(bins=15, color='blue', edgecolor='black', linewidth=1.0,\n",
    "              xlabelsize=8, ylabelsize=8, grid=False)    \n",
    "plt.tight_layout(rect=(0, 0, 1.6, 1.6))   \n",
    "rt = plt.suptitle('Stroke Prediction Univariate Plots', x=0.8, y=1.7, fontsize=14)"
   ]
  },
  {
   "cell_type": "code",
   "execution_count": 101,
   "metadata": {},
   "outputs": [
    {
     "data": {
      "text/html": [
       "<div>\n",
       "<style scoped>\n",
       "    .dataframe tbody tr th:only-of-type {\n",
       "        vertical-align: middle;\n",
       "    }\n",
       "\n",
       "    .dataframe tbody tr th {\n",
       "        vertical-align: top;\n",
       "    }\n",
       "\n",
       "    .dataframe thead th {\n",
       "        text-align: right;\n",
       "    }\n",
       "</style>\n",
       "<table border=\"1\" class=\"dataframe\">\n",
       "  <thead>\n",
       "    <tr style=\"text-align: right;\">\n",
       "      <th></th>\n",
       "      <th>Hypertension_1</th>\n",
       "      <th>Heart_Disease_1</th>\n",
       "      <th>Gender_Male</th>\n",
       "      <th>Ever_Married_Yes</th>\n",
       "      <th>Type_Of_Work_Never_worked</th>\n",
       "      <th>Type_Of_Work_Private</th>\n",
       "      <th>Type_Of_Work_Self-employed</th>\n",
       "      <th>Type_Of_Work_children</th>\n",
       "      <th>Residence_Urban</th>\n",
       "      <th>Smoking_Status_never smoked</th>\n",
       "      <th>Smoking_Status_smokes</th>\n",
       "      <th>Smoking_Status_unknown</th>\n",
       "      <th>Age</th>\n",
       "      <th>Avg_Glucose</th>\n",
       "      <th>BMI</th>\n",
       "      <th>Stroke</th>\n",
       "    </tr>\n",
       "  </thead>\n",
       "  <tbody>\n",
       "    <tr>\n",
       "      <th>count</th>\n",
       "      <td>43383.00</td>\n",
       "      <td>43383.00</td>\n",
       "      <td>43383.00</td>\n",
       "      <td>43383.00</td>\n",
       "      <td>43383.00</td>\n",
       "      <td>43383.00</td>\n",
       "      <td>43383.00</td>\n",
       "      <td>43383.00</td>\n",
       "      <td>43383.0</td>\n",
       "      <td>43383.00</td>\n",
       "      <td>43383.00</td>\n",
       "      <td>43383.00</td>\n",
       "      <td>43383.00</td>\n",
       "      <td>43383.00</td>\n",
       "      <td>43383.00</td>\n",
       "      <td>43383.00</td>\n",
       "    </tr>\n",
       "    <tr>\n",
       "      <th>mean</th>\n",
       "      <td>0.09</td>\n",
       "      <td>0.05</td>\n",
       "      <td>0.41</td>\n",
       "      <td>0.64</td>\n",
       "      <td>0.00</td>\n",
       "      <td>0.57</td>\n",
       "      <td>0.16</td>\n",
       "      <td>0.14</td>\n",
       "      <td>0.5</td>\n",
       "      <td>0.47</td>\n",
       "      <td>0.15</td>\n",
       "      <td>0.21</td>\n",
       "      <td>42.29</td>\n",
       "      <td>104.49</td>\n",
       "      <td>28.61</td>\n",
       "      <td>0.02</td>\n",
       "    </tr>\n",
       "    <tr>\n",
       "      <th>std</th>\n",
       "      <td>0.29</td>\n",
       "      <td>0.21</td>\n",
       "      <td>0.49</td>\n",
       "      <td>0.48</td>\n",
       "      <td>0.06</td>\n",
       "      <td>0.49</td>\n",
       "      <td>0.36</td>\n",
       "      <td>0.35</td>\n",
       "      <td>0.5</td>\n",
       "      <td>0.50</td>\n",
       "      <td>0.36</td>\n",
       "      <td>0.41</td>\n",
       "      <td>22.52</td>\n",
       "      <td>43.12</td>\n",
       "      <td>7.64</td>\n",
       "      <td>0.13</td>\n",
       "    </tr>\n",
       "    <tr>\n",
       "      <th>min</th>\n",
       "      <td>0.00</td>\n",
       "      <td>0.00</td>\n",
       "      <td>0.00</td>\n",
       "      <td>0.00</td>\n",
       "      <td>0.00</td>\n",
       "      <td>0.00</td>\n",
       "      <td>0.00</td>\n",
       "      <td>0.00</td>\n",
       "      <td>0.0</td>\n",
       "      <td>0.00</td>\n",
       "      <td>0.00</td>\n",
       "      <td>0.00</td>\n",
       "      <td>0.08</td>\n",
       "      <td>55.00</td>\n",
       "      <td>10.10</td>\n",
       "      <td>0.00</td>\n",
       "    </tr>\n",
       "    <tr>\n",
       "      <th>25%</th>\n",
       "      <td>0.00</td>\n",
       "      <td>0.00</td>\n",
       "      <td>0.00</td>\n",
       "      <td>0.00</td>\n",
       "      <td>0.00</td>\n",
       "      <td>0.00</td>\n",
       "      <td>0.00</td>\n",
       "      <td>0.00</td>\n",
       "      <td>0.0</td>\n",
       "      <td>0.00</td>\n",
       "      <td>0.00</td>\n",
       "      <td>0.00</td>\n",
       "      <td>24.08</td>\n",
       "      <td>77.54</td>\n",
       "      <td>23.40</td>\n",
       "      <td>0.00</td>\n",
       "    </tr>\n",
       "    <tr>\n",
       "      <th>50%</th>\n",
       "      <td>0.00</td>\n",
       "      <td>0.00</td>\n",
       "      <td>0.00</td>\n",
       "      <td>1.00</td>\n",
       "      <td>0.00</td>\n",
       "      <td>1.00</td>\n",
       "      <td>0.00</td>\n",
       "      <td>0.00</td>\n",
       "      <td>1.0</td>\n",
       "      <td>0.00</td>\n",
       "      <td>0.00</td>\n",
       "      <td>0.00</td>\n",
       "      <td>44.04</td>\n",
       "      <td>91.58</td>\n",
       "      <td>28.10</td>\n",
       "      <td>0.00</td>\n",
       "    </tr>\n",
       "    <tr>\n",
       "      <th>75%</th>\n",
       "      <td>0.00</td>\n",
       "      <td>0.00</td>\n",
       "      <td>1.00</td>\n",
       "      <td>1.00</td>\n",
       "      <td>0.00</td>\n",
       "      <td>1.00</td>\n",
       "      <td>0.00</td>\n",
       "      <td>0.00</td>\n",
       "      <td>1.0</td>\n",
       "      <td>1.00</td>\n",
       "      <td>0.00</td>\n",
       "      <td>0.00</td>\n",
       "      <td>60.06</td>\n",
       "      <td>112.08</td>\n",
       "      <td>32.60</td>\n",
       "      <td>0.00</td>\n",
       "    </tr>\n",
       "    <tr>\n",
       "      <th>max</th>\n",
       "      <td>1.00</td>\n",
       "      <td>1.00</td>\n",
       "      <td>1.00</td>\n",
       "      <td>1.00</td>\n",
       "      <td>1.00</td>\n",
       "      <td>1.00</td>\n",
       "      <td>1.00</td>\n",
       "      <td>1.00</td>\n",
       "      <td>1.0</td>\n",
       "      <td>1.00</td>\n",
       "      <td>1.00</td>\n",
       "      <td>1.00</td>\n",
       "      <td>82.14</td>\n",
       "      <td>291.05</td>\n",
       "      <td>97.60</td>\n",
       "      <td>1.00</td>\n",
       "    </tr>\n",
       "  </tbody>\n",
       "</table>\n",
       "</div>"
      ],
      "text/plain": [
       "       Hypertension_1  Heart_Disease_1  Gender_Male  Ever_Married_Yes  \\\n",
       "count        43383.00         43383.00     43383.00          43383.00   \n",
       "mean             0.09             0.05         0.41              0.64   \n",
       "std              0.29             0.21         0.49              0.48   \n",
       "min              0.00             0.00         0.00              0.00   \n",
       "25%              0.00             0.00         0.00              0.00   \n",
       "50%              0.00             0.00         0.00              1.00   \n",
       "75%              0.00             0.00         1.00              1.00   \n",
       "max              1.00             1.00         1.00              1.00   \n",
       "\n",
       "       Type_Of_Work_Never_worked  Type_Of_Work_Private  \\\n",
       "count                   43383.00              43383.00   \n",
       "mean                        0.00                  0.57   \n",
       "std                         0.06                  0.49   \n",
       "min                         0.00                  0.00   \n",
       "25%                         0.00                  0.00   \n",
       "50%                         0.00                  1.00   \n",
       "75%                         0.00                  1.00   \n",
       "max                         1.00                  1.00   \n",
       "\n",
       "       Type_Of_Work_Self-employed  Type_Of_Work_children  Residence_Urban  \\\n",
       "count                    43383.00               43383.00          43383.0   \n",
       "mean                         0.16                   0.14              0.5   \n",
       "std                          0.36                   0.35              0.5   \n",
       "min                          0.00                   0.00              0.0   \n",
       "25%                          0.00                   0.00              0.0   \n",
       "50%                          0.00                   0.00              1.0   \n",
       "75%                          0.00                   0.00              1.0   \n",
       "max                          1.00                   1.00              1.0   \n",
       "\n",
       "       Smoking_Status_never smoked  Smoking_Status_smokes  \\\n",
       "count                     43383.00               43383.00   \n",
       "mean                          0.47                   0.15   \n",
       "std                           0.50                   0.36   \n",
       "min                           0.00                   0.00   \n",
       "25%                           0.00                   0.00   \n",
       "50%                           0.00                   0.00   \n",
       "75%                           1.00                   0.00   \n",
       "max                           1.00                   1.00   \n",
       "\n",
       "       Smoking_Status_unknown       Age  Avg_Glucose       BMI    Stroke  \n",
       "count                43383.00  43383.00     43383.00  43383.00  43383.00  \n",
       "mean                     0.21     42.29       104.49     28.61      0.02  \n",
       "std                      0.41     22.52        43.12      7.64      0.13  \n",
       "min                      0.00      0.08        55.00     10.10      0.00  \n",
       "25%                      0.00     24.08        77.54     23.40      0.00  \n",
       "50%                      0.00     44.04        91.58     28.10      0.00  \n",
       "75%                      0.00     60.06       112.08     32.60      0.00  \n",
       "max                      1.00     82.14       291.05     97.60      1.00  "
      ]
     },
     "execution_count": 101,
     "metadata": {},
     "output_type": "execute_result"
    }
   ],
   "source": [
    "basic_stat = round(stroke_pred1.describe(),2)\n",
    "basic_stat"
   ]
  },
  {
   "cell_type": "markdown",
   "metadata": {},
   "source": [
    "## 2. Train, Test split"
   ]
  },
  {
   "cell_type": "code",
   "execution_count": 78,
   "metadata": {},
   "outputs": [
    {
     "name": "stdout",
     "output_type": "stream",
     "text": [
      "Counter({0: 29831, 1: 537}) Counter({0: 12769, 1: 246})\n",
      "Features: ['Hypertension_1', 'Heart_Disease_1', 'Gender_Male', 'Ever_Married_Yes', 'Type_Of_Work_Never_worked', 'Type_Of_Work_Private', 'Type_Of_Work_Self-employed', 'Type_Of_Work_children', 'Residence_Urban', 'Smoking_Status_never smoked', 'Smoking_Status_smokes', 'Smoking_Status_unknown', 'Age', 'Avg_Glucose', 'BMI']\n"
     ]
    }
   ],
   "source": [
    "# stp = stroke prediction\n",
    "stp_features = stroke_pred1[cols[:-1]]\n",
    "stp_features_names=stp_features.columns\n",
    "stp_class_labels = stroke_pred1['Stroke']\n",
    "\n",
    "stp_train_X, stp_test_X, stp_train_y, stp_test_y = train_test_split(stp_features, \n",
    "             stp_class_labels, test_size=0.3, random_state=42)\n",
    "\n",
    "print(Counter(stp_train_y), Counter(stp_test_y))\n",
    "print('Features:', list(stp_features_names))"
   ]
  },
  {
   "cell_type": "code",
   "execution_count": 11,
   "metadata": {},
   "outputs": [
    {
     "name": "stdout",
     "output_type": "stream",
     "text": [
      "% of Strokes labels = 0.018\n",
      "there is a clear need to rebalance the datasets\n"
     ]
    },
    {
     "data": {
      "image/png": "[encoded data removed]",
      "text/plain": [
       "<Figure size 432x288 with 1 Axes>"
      ]
     },
     "metadata": {},
     "output_type": "display_data"
    }
   ],
   "source": [
    "Counterdf=pd.DataFrame([Counter(stp_train_y)[0],Counter(stp_train_y)[1]])\n",
    "Counterdf.plot(kind='bar', title='Count (No Strokes = 0, Strokes = 1)');\n",
    "print('% of Strokes labels =', round(Counter(stp_train_y)[1]/Counter(stp_train_y)[0],3))\n",
    "print('there is a clear need to rebalance the datasets')"
   ]
  },
  {
   "cell_type": "code",
   "execution_count": 12,
   "metadata": {},
   "outputs": [
    {
     "data": {
      "text/html": [
       "<div>\n",
       "<style scoped>\n",
       "    .dataframe tbody tr th:only-of-type {\n",
       "        vertical-align: middle;\n",
       "    }\n",
       "\n",
       "    .dataframe tbody tr th {\n",
       "        vertical-align: top;\n",
       "    }\n",
       "\n",
       "    .dataframe thead th {\n",
       "        text-align: right;\n",
       "    }\n",
       "</style>\n",
       "<table border=\"1\" class=\"dataframe\">\n",
       "  <thead>\n",
       "    <tr style=\"text-align: right;\">\n",
       "      <th></th>\n",
       "      <th>Hypertension_1</th>\n",
       "      <th>Heart_Disease_1</th>\n",
       "      <th>Gender_Male</th>\n",
       "      <th>Ever_Married_Yes</th>\n",
       "      <th>Type_Of_Work_Never_worked</th>\n",
       "      <th>Type_Of_Work_Private</th>\n",
       "      <th>Type_Of_Work_Self-employed</th>\n",
       "      <th>Type_Of_Work_children</th>\n",
       "      <th>Residence_Urban</th>\n",
       "      <th>Smoking_Status_never smoked</th>\n",
       "      <th>Smoking_Status_smokes</th>\n",
       "      <th>Smoking_Status_unknown</th>\n",
       "      <th>Age</th>\n",
       "      <th>Avg_Glucose</th>\n",
       "      <th>BMI</th>\n",
       "    </tr>\n",
       "  </thead>\n",
       "  <tbody>\n",
       "    <tr>\n",
       "      <th>41014</th>\n",
       "      <td>0</td>\n",
       "      <td>0</td>\n",
       "      <td>0</td>\n",
       "      <td>0</td>\n",
       "      <td>0</td>\n",
       "      <td>0</td>\n",
       "      <td>0</td>\n",
       "      <td>1</td>\n",
       "      <td>0</td>\n",
       "      <td>1</td>\n",
       "      <td>0</td>\n",
       "      <td>0</td>\n",
       "      <td>0.683288</td>\n",
       "      <td>70.27</td>\n",
       "      <td>14.6</td>\n",
       "    </tr>\n",
       "    <tr>\n",
       "      <th>15171</th>\n",
       "      <td>0</td>\n",
       "      <td>0</td>\n",
       "      <td>0</td>\n",
       "      <td>1</td>\n",
       "      <td>0</td>\n",
       "      <td>1</td>\n",
       "      <td>0</td>\n",
       "      <td>0</td>\n",
       "      <td>0</td>\n",
       "      <td>0</td>\n",
       "      <td>0</td>\n",
       "      <td>1</td>\n",
       "      <td>53.106849</td>\n",
       "      <td>89.12</td>\n",
       "      <td>25.7</td>\n",
       "    </tr>\n",
       "    <tr>\n",
       "      <th>32054</th>\n",
       "      <td>0</td>\n",
       "      <td>0</td>\n",
       "      <td>0</td>\n",
       "      <td>0</td>\n",
       "      <td>0</td>\n",
       "      <td>1</td>\n",
       "      <td>0</td>\n",
       "      <td>0</td>\n",
       "      <td>1</td>\n",
       "      <td>1</td>\n",
       "      <td>0</td>\n",
       "      <td>0</td>\n",
       "      <td>19.035616</td>\n",
       "      <td>60.03</td>\n",
       "      <td>31.0</td>\n",
       "    </tr>\n",
       "    <tr>\n",
       "      <th>8282</th>\n",
       "      <td>0</td>\n",
       "      <td>0</td>\n",
       "      <td>0</td>\n",
       "      <td>1</td>\n",
       "      <td>0</td>\n",
       "      <td>1</td>\n",
       "      <td>0</td>\n",
       "      <td>0</td>\n",
       "      <td>1</td>\n",
       "      <td>0</td>\n",
       "      <td>0</td>\n",
       "      <td>1</td>\n",
       "      <td>57.005479</td>\n",
       "      <td>95.18</td>\n",
       "      <td>23.9</td>\n",
       "    </tr>\n",
       "    <tr>\n",
       "      <th>22572</th>\n",
       "      <td>0</td>\n",
       "      <td>0</td>\n",
       "      <td>0</td>\n",
       "      <td>1</td>\n",
       "      <td>0</td>\n",
       "      <td>1</td>\n",
       "      <td>0</td>\n",
       "      <td>0</td>\n",
       "      <td>0</td>\n",
       "      <td>0</td>\n",
       "      <td>0</td>\n",
       "      <td>1</td>\n",
       "      <td>38.043836</td>\n",
       "      <td>94.61</td>\n",
       "      <td>38.3</td>\n",
       "    </tr>\n",
       "  </tbody>\n",
       "</table>\n",
       "</div>"
      ],
      "text/plain": [
       "       Hypertension_1  Heart_Disease_1  Gender_Male  Ever_Married_Yes  \\\n",
       "41014               0                0            0                 0   \n",
       "15171               0                0            0                 1   \n",
       "32054               0                0            0                 0   \n",
       "8282                0                0            0                 1   \n",
       "22572               0                0            0                 1   \n",
       "\n",
       "       Type_Of_Work_Never_worked  Type_Of_Work_Private  \\\n",
       "41014                          0                     0   \n",
       "15171                          0                     1   \n",
       "32054                          0                     1   \n",
       "8282                           0                     1   \n",
       "22572                          0                     1   \n",
       "\n",
       "       Type_Of_Work_Self-employed  Type_Of_Work_children  Residence_Urban  \\\n",
       "41014                           0                      1                0   \n",
       "15171                           0                      0                0   \n",
       "32054                           0                      0                1   \n",
       "8282                            0                      0                1   \n",
       "22572                           0                      0                0   \n",
       "\n",
       "       Smoking_Status_never smoked  Smoking_Status_smokes  \\\n",
       "41014                            1                      0   \n",
       "15171                            0                      0   \n",
       "32054                            1                      0   \n",
       "8282                             0                      0   \n",
       "22572                            0                      0   \n",
       "\n",
       "       Smoking_Status_unknown        Age  Avg_Glucose   BMI  \n",
       "41014                       0   0.683288        70.27  14.6  \n",
       "15171                       1  53.106849        89.12  25.7  \n",
       "32054                       0  19.035616        60.03  31.0  \n",
       "8282                        1  57.005479        95.18  23.9  \n",
       "22572                       1  38.043836        94.61  38.3  "
      ]
     },
     "execution_count": 12,
     "metadata": {},
     "output_type": "execute_result"
    }
   ],
   "source": [
    "stp_train_X.head()"
   ]
  },
  {
   "cell_type": "code",
   "execution_count": 13,
   "metadata": {},
   "outputs": [
    {
     "data": {
      "text/plain": [
       "Hypertension_1                   uint8\n",
       "Heart_Disease_1                  uint8\n",
       "Gender_Male                      uint8\n",
       "Ever_Married_Yes                 uint8\n",
       "Type_Of_Work_Never_worked        uint8\n",
       "Type_Of_Work_Private             uint8\n",
       "Type_Of_Work_Self-employed       uint8\n",
       "Type_Of_Work_children            uint8\n",
       "Residence_Urban                  uint8\n",
       "Smoking_Status_never smoked      uint8\n",
       "Smoking_Status_smokes            uint8\n",
       "Smoking_Status_unknown           uint8\n",
       "Age                            float64\n",
       "Avg_Glucose                    float64\n",
       "BMI                            float64\n",
       "dtype: object"
      ]
     },
     "execution_count": 13,
     "metadata": {},
     "output_type": "execute_result"
    }
   ],
   "source": [
    "stp_train_X.dtypes"
   ]
  },
  {
   "cell_type": "markdown",
   "metadata": {},
   "source": [
    "## 3. Data standardization"
   ]
  },
  {
   "cell_type": "markdown",
   "metadata": {},
   "source": [
    "### Scaling of the data (data standardization)"
   ]
  },
  {
   "cell_type": "markdown",
   "metadata": {},
   "source": [
    "- We do this so that when we are running models (logistic regression, SVMs, perceptrons, neural networks etc.) \n",
    "the estimated weights will update similarly rather than at different rates during the build process.\n",
    "- This will give us more accurate results with sklearn.\n",
    "- **We do this only on numeric variables (Age, Avg_Glucose, BMI)** excluding our binary and categorical variables"
   ]
  },
  {
   "cell_type": "code",
   "execution_count": 15,
   "metadata": {},
   "outputs": [],
   "source": [
    "num_cols=['Age', 'Avg_Glucose', 'BMI']\n",
    "\n",
    "stp_ss = StandardScaler().fit(stp_train_X[num_cols])\n",
    "\n",
    "# Scale the train set numeric variable\n",
    "stp_train_X[num_cols] = stp_ss.transform(stp_train_X[num_cols])\n",
    "\n",
    "# Scale the test set numeric variable\n",
    "stp_test_X[num_cols] = stp_ss.transform(stp_test_X[num_cols])\n",
    "\n",
    "warnings.filterwarnings(\"ignore\")\n"
   ]
  },
  {
   "cell_type": "markdown",
   "metadata": {},
   "source": [
    "### Normalization of the data: we will not do that"
   ]
  },
  {
   "cell_type": "markdown",
   "metadata": {},
   "source": [
    "- We will then use the MinMaxScaler to normalize the X values between [0,1]\n",
    "- This is a requirement to use CHi2 test for feature selection (X must be >0). \n",
    "- Issue, this could eliminate the outliers. "
   ]
  },
  {
   "cell_type": "code",
   "execution_count": 20,
   "metadata": {},
   "outputs": [],
   "source": [
    "#stp_mm = MinMaxScaler().fit(stp_train_X[num_cols])\n",
    "\n",
    "# Scale the train set numeric variable\n",
    "#stp_train_X[num_cols] = stp_mm.transform(stp_train_X[num_cols])\n",
    "# Scale the test set numeric variable\n",
    "#stp_test_X[num_cols] = stp_mm.transform(stp_test_X[num_cols])\n"
   ]
  },
  {
   "cell_type": "markdown",
   "metadata": {},
   "source": [
    "## 4. Simple model testing"
   ]
  },
  {
   "cell_type": "markdown",
   "metadata": {},
   "source": [
    "### 4.1 Naive model  (logistic regression) ignoring class imbalance"
   ]
  },
  {
   "cell_type": "code",
   "execution_count": 16,
   "metadata": {},
   "outputs": [
    {
     "data": {
      "text/plain": [
       "LogisticRegression(C=1.0, class_weight=None, dual=False, fit_intercept=True,\n",
       "          intercept_scaling=1, max_iter=100, multi_class='ovr', n_jobs=1,\n",
       "          penalty='l2', random_state=None, solver='liblinear', tol=0.0001,\n",
       "          verbose=0, warm_start=False)"
      ]
     },
     "execution_count": 16,
     "metadata": {},
     "output_type": "execute_result"
    }
   ],
   "source": [
    "from sklearn.linear_model import LogisticRegression\n",
    "\n",
    "stp_lr = LogisticRegression()\n",
    "stp_lr.fit(stp_train_X, stp_train_y)"
   ]
  },
  {
   "cell_type": "code",
   "execution_count": 17,
   "metadata": {},
   "outputs": [
    {
     "name": "stdout",
     "output_type": "stream",
     "text": [
      "Model Performance metrics:\n",
      "------------------------------\n",
      "Accuracy: 0.9811\n",
      "Precision: 0.9626\n",
      "Recall: 0.9811\n",
      "F1 Score: 0.9717\n",
      "\n",
      "Model Classification report:\n",
      "------------------------------\n",
      "             precision    recall  f1-score   support\n",
      "\n",
      "          0       0.98      1.00      0.99     12769\n",
      "          1       0.00      0.00      0.00       246\n",
      "\n",
      "avg / total       0.96      0.98      0.97     13015\n",
      "\n",
      "\n",
      "Prediction Confusion Matrix:\n",
      "------------------------------\n",
      "          Predicted:   \n",
      "                   0  1\n",
      "Actual: 0      12769  0\n",
      "        1        246  0\n"
     ]
    }
   ],
   "source": [
    "stp_lr_predictions = stp_lr.predict(stp_test_X)\n",
    "meu.display_model_performance_metrics(true_labels=stp_test_y,\n",
    "     predicted_labels=stp_lr_predictions, classes=[0,1])"
   ]
  },
  {
   "cell_type": "markdown",
   "metadata": {},
   "source": [
    "**Conclusion**: \n",
    "- Due to the class imbalance, the model is biased and predicts everytime no stroke, which is not very useful. Next, we will address this."
   ]
  },
  {
   "cell_type": "markdown",
   "metadata": {},
   "source": [
    "\n",
    "### 4.2 Simple model with rebalanced classes "
   ]
  },
  {
   "cell_type": "markdown",
   "metadata": {},
   "source": [
    "- There are many ways to do an oversampling and undersampling of a data sets. \n",
    "- We will use some of the best strategies described here:\n",
    "    - source: https://www.kaggle.com/rafjaa/resampling-strategies-for-imbalanced-datasets  \n",
    "- We will install imblearn to perform an over-sampling using SMOTE and undersampling using TOMEK links\n",
    "    - source https://imbalanced-learn.readthedocs.io/en/stable/about.html\n",
    "\n",
    "**Over-sampling: SMOTE**\n",
    "- SMOTE (Synthetic Minority Oversampling TEchnique) consists of synthesizing elements for the minority class, \n",
    "based on those that already exist. It works randomly picingk a point from the minority class \n",
    "and computing the k-nearest neighbors for this point. The synthetic points are added between the chosen point\n",
    "and its neighbors.\n",
    "\n",
    "**Under-sampling: TOMEK links**\n",
    "- Tomek links are pairs of very close instances, but of opposite classes. Removing the instances of the majority class \n",
    "of each pair increases the space between the two classes, facilitating the classification process.\n"
   ]
  },
  {
   "cell_type": "code",
   "execution_count": 18,
   "metadata": {},
   "outputs": [],
   "source": [
    "from imblearn.combine import SMOTETomek\n",
    "\n",
    "smt = SMOTETomek(ratio='auto')\n",
    "X_train_smt, y_train_smt = smt.fit_sample(stp_train_X, stp_train_y)\n",
    "\n",
    "#if time allows, plot_2d_space(X_train_smt, y_train_smt, 'SMOTE + Tomek links')\n"
   ]
  },
  {
   "cell_type": "code",
   "execution_count": 20,
   "metadata": {},
   "outputs": [
    {
     "name": "stdout",
     "output_type": "stream",
     "text": [
      "% of Strokes labels = 1.0\n",
      "our data sets are now balanced\n"
     ]
    },
    {
     "data": {
      "image/png": "[encoded data removed]",
      "text/plain": [
       "<Figure size 432x288 with 1 Axes>"
      ]
     },
     "metadata": {},
     "output_type": "display_data"
    }
   ],
   "source": [
    "Counterdf=pd.DataFrame([Counter(y_train_smt)[0],Counter(y_train_smt)[1]])\n",
    "Counterdf.plot(kind='bar', title='Count (No Strokes = 0, Strokes = 1)');\n",
    "print('% of Strokes labels =', round(Counter(y_train_smt)[1]/Counter(y_train_smt)[0],3))\n",
    "print('our data sets are now balanced')"
   ]
  },
  {
   "cell_type": "code",
   "execution_count": 21,
   "metadata": {},
   "outputs": [
    {
     "data": {
      "text/plain": [
       "LogisticRegression(C=1.0, class_weight=None, dual=False, fit_intercept=True,\n",
       "          intercept_scaling=1, max_iter=100, multi_class='ovr', n_jobs=1,\n",
       "          penalty='l2', random_state=None, solver='liblinear', tol=0.0001,\n",
       "          verbose=0, warm_start=False)"
      ]
     },
     "execution_count": 21,
     "metadata": {},
     "output_type": "execute_result"
    }
   ],
   "source": [
    "from sklearn.linear_model import LogisticRegression\n",
    "\n",
    "stp_lr = LogisticRegression()\n",
    "stp_lr.fit(X_train_smt, y_train_smt)"
   ]
  },
  {
   "cell_type": "markdown",
   "metadata": {},
   "source": [
    "We rebalance the test data as well (this should gives better accuracy, we will check)"
   ]
  },
  {
   "cell_type": "code",
   "execution_count": 22,
   "metadata": {},
   "outputs": [],
   "source": [
    "X_test_smt, y_test_smt = smt.fit_sample(stp_test_X, stp_test_y)"
   ]
  },
  {
   "cell_type": "code",
   "execution_count": 23,
   "metadata": {
    "scrolled": false
   },
   "outputs": [
    {
     "name": "stdout",
     "output_type": "stream",
     "text": [
      "Model Performance metrics:\n",
      "------------------------------\n",
      "Accuracy: 0.7843\n",
      "Precision: 0.7858\n",
      "Recall: 0.7843\n",
      "F1 Score: 0.784\n",
      "\n",
      "Model Classification report:\n",
      "------------------------------\n",
      "             precision    recall  f1-score   support\n",
      "\n",
      "          0       0.81      0.75      0.78     12755\n",
      "          1       0.76      0.82      0.79     12755\n",
      "\n",
      "avg / total       0.79      0.78      0.78     25510\n",
      "\n",
      "\n",
      "Prediction Confusion Matrix:\n",
      "------------------------------\n",
      "          Predicted:       \n",
      "                   0      1\n",
      "Actual: 0       9539   3216\n",
      "        1       2287  10468\n"
     ]
    }
   ],
   "source": [
    "stp_lr_predictions = stp_lr.predict(X_test_smt)\n",
    "meu.display_model_performance_metrics(true_labels=y_test_smt,\n",
    "     predicted_labels=stp_lr_predictions, classes=[0,1])"
   ]
  },
  {
   "cell_type": "markdown",
   "metadata": {},
   "source": [
    "**Conclusion** \n",
    "\n",
    "- Performance (balanced train and test data): 78% accuracy, 79% precision,78% F1 score)\n",
    "    - **We get the best accuracy performance by balancing both the train and test data.**\n",
    "    - We care about accuracy since we want to predict as many stroke risks as possible\n",
    "    - This becomes our benchmark for our model performance"
   ]
  },
  {
   "cell_type": "markdown",
   "metadata": {},
   "source": [
    "### 4.3 Add new features using polynomial"
   ]
  },
  {
   "cell_type": "markdown",
   "metadata": {},
   "source": [
    "- We will now use scikit-learn to add new interaction features to the model by using the polynomial fonction.\n",
    "- The idea is to get a better binary classifier by looking at the correlation of combination of features with Strokes\n",
    "- We will only create interaction between 2 features to avoid an explosion of features. \n",
    "Source: \n",
    "- https://scikit-learn.org/stable/modules/generated/sklearn.preprocessing.PolynomialFeatures.html    "
   ]
  },
  {
   "cell_type": "code",
   "execution_count": 24,
   "metadata": {},
   "outputs": [],
   "source": [
    "features_df=pd.DataFrame(data=X_train_smt,    # values\n",
    "    index=X_train_smt[0:,0],    # 1st column as index\n",
    "    columns=list(stp_features_names))  # 1st row as the column names"
   ]
  },
  {
   "cell_type": "code",
   "execution_count": 25,
   "metadata": {},
   "outputs": [
    {
     "data": {
      "text/plain": [
       "(59528, 15)"
      ]
     },
     "execution_count": 25,
     "metadata": {},
     "output_type": "execute_result"
    }
   ],
   "source": [
    "features_df.shape"
   ]
  },
  {
   "cell_type": "code",
   "execution_count": 27,
   "metadata": {},
   "outputs": [
    {
     "data": {
      "text/plain": [
       "Index(['Hypertension_1', 'Heart_Disease_1', 'Gender_Male', 'Ever_Married_Yes',\n",
       "       'Type_Of_Work_Never_worked', 'Type_Of_Work_Private',\n",
       "       'Type_Of_Work_Self-employed', 'Type_Of_Work_children',\n",
       "       'Residence_Urban', 'Smoking_Status_never smoked',\n",
       "       'Smoking_Status_smokes', 'Smoking_Status_unknown', 'Age', 'Avg_Glucose',\n",
       "       'BMI'],\n",
       "      dtype='object')"
      ]
     },
     "execution_count": 27,
     "metadata": {},
     "output_type": "execute_result"
    }
   ],
   "source": [
    "stp_features_names"
   ]
  },
  {
   "cell_type": "code",
   "execution_count": 28,
   "metadata": {},
   "outputs": [
    {
     "data": {
      "text/html": [
       "<div>\n",
       "<style scoped>\n",
       "    .dataframe tbody tr th:only-of-type {\n",
       "        vertical-align: middle;\n",
       "    }\n",
       "\n",
       "    .dataframe tbody tr th {\n",
       "        vertical-align: top;\n",
       "    }\n",
       "\n",
       "    .dataframe thead th {\n",
       "        text-align: right;\n",
       "    }\n",
       "</style>\n",
       "<table border=\"1\" class=\"dataframe\">\n",
       "  <thead>\n",
       "    <tr style=\"text-align: right;\">\n",
       "      <th></th>\n",
       "      <th>Hypertension_1</th>\n",
       "      <th>Heart_Disease_1</th>\n",
       "      <th>Gender_Male</th>\n",
       "      <th>Ever_Married_Yes</th>\n",
       "      <th>Type_Of_Work_Never_worked</th>\n",
       "      <th>Type_Of_Work_Private</th>\n",
       "      <th>Type_Of_Work_Self-employed</th>\n",
       "      <th>Type_Of_Work_children</th>\n",
       "      <th>Residence_Urban</th>\n",
       "      <th>Smoking_Status_never smoked</th>\n",
       "      <th>Smoking_Status_smokes</th>\n",
       "      <th>Smoking_Status_unknown</th>\n",
       "      <th>Age</th>\n",
       "      <th>Avg_Glucose</th>\n",
       "      <th>BMI</th>\n",
       "    </tr>\n",
       "  </thead>\n",
       "  <tbody>\n",
       "    <tr>\n",
       "      <th>0.0</th>\n",
       "      <td>0</td>\n",
       "      <td>0</td>\n",
       "      <td>0</td>\n",
       "      <td>0</td>\n",
       "      <td>0</td>\n",
       "      <td>0</td>\n",
       "      <td>0</td>\n",
       "      <td>1</td>\n",
       "      <td>0</td>\n",
       "      <td>1</td>\n",
       "      <td>0</td>\n",
       "      <td>0</td>\n",
       "      <td>-1.850470</td>\n",
       "      <td>-0.794488</td>\n",
       "      <td>-1.832740</td>\n",
       "    </tr>\n",
       "    <tr>\n",
       "      <th>0.0</th>\n",
       "      <td>0</td>\n",
       "      <td>0</td>\n",
       "      <td>0</td>\n",
       "      <td>1</td>\n",
       "      <td>0</td>\n",
       "      <td>1</td>\n",
       "      <td>0</td>\n",
       "      <td>0</td>\n",
       "      <td>0</td>\n",
       "      <td>0</td>\n",
       "      <td>0</td>\n",
       "      <td>1</td>\n",
       "      <td>0.481418</td>\n",
       "      <td>-0.355295</td>\n",
       "      <td>-0.384863</td>\n",
       "    </tr>\n",
       "  </tbody>\n",
       "</table>\n",
       "</div>"
      ],
      "text/plain": [
       "     Hypertension_1  Heart_Disease_1  Gender_Male  Ever_Married_Yes  \\\n",
       "0.0               0                0            0                 0   \n",
       "0.0               0                0            0                 1   \n",
       "\n",
       "     Type_Of_Work_Never_worked  Type_Of_Work_Private  \\\n",
       "0.0                          0                     0   \n",
       "0.0                          0                     1   \n",
       "\n",
       "     Type_Of_Work_Self-employed  Type_Of_Work_children  Residence_Urban  \\\n",
       "0.0                           0                      1                0   \n",
       "0.0                           0                      0                0   \n",
       "\n",
       "     Smoking_Status_never smoked  Smoking_Status_smokes  \\\n",
       "0.0                            1                      0   \n",
       "0.0                            0                      0   \n",
       "\n",
       "     Smoking_Status_unknown       Age  Avg_Glucose       BMI  \n",
       "0.0                       0 -1.850470    -0.794488 -1.832740  \n",
       "0.0                       1  0.481418    -0.355295 -0.384863  "
      ]
     },
     "execution_count": 28,
     "metadata": {},
     "output_type": "execute_result"
    }
   ],
   "source": [
    "int_cols=['Hypertension_1', 'Heart_Disease_1', 'Gender_Male', 'Ever_Married_Yes',\n",
    "       'Type_Of_Work_Never_worked', 'Type_Of_Work_Private',\n",
    "       'Type_Of_Work_Self-employed', 'Type_Of_Work_children',\n",
    "       'Residence_Urban', 'Smoking_Status_never smoked',\n",
    "       'Smoking_Status_smokes', 'Smoking_Status_unknown']\n",
    "features_df[int_cols]=features_df[int_cols].astype(int)\n",
    "features_df.head(2)"
   ]
  },
  {
   "cell_type": "code",
   "execution_count": 30,
   "metadata": {},
   "outputs": [],
   "source": [
    "y_train_smt=y_train_smt.astype(int)\n",
    "y_test_smt=y_test_smt.astype(int)"
   ]
  },
  {
   "cell_type": "code",
   "execution_count": 31,
   "metadata": {},
   "outputs": [],
   "source": [
    "p=PolynomialFeatures(degree=2, interaction_only=True, include_bias=True).fit(features_df)"
   ]
  },
  {
   "cell_type": "code",
   "execution_count": 32,
   "metadata": {},
   "outputs": [],
   "source": [
    "features_name_poly=p.get_feature_names(features_df.columns)\n"
   ]
  },
  {
   "cell_type": "code",
   "execution_count": 33,
   "metadata": {
    "scrolled": true
   },
   "outputs": [
    {
     "data": {
      "text/plain": [
       "['1',\n",
       " 'Hypertension_1',\n",
       " 'Heart_Disease_1',\n",
       " 'Gender_Male',\n",
       " 'Ever_Married_Yes',\n",
       " 'Type_Of_Work_Never_worked',\n",
       " 'Type_Of_Work_Private',\n",
       " 'Type_Of_Work_Self-employed',\n",
       " 'Type_Of_Work_children',\n",
       " 'Residence_Urban',\n",
       " 'Smoking_Status_never smoked',\n",
       " 'Smoking_Status_smokes',\n",
       " 'Smoking_Status_unknown',\n",
       " 'Age',\n",
       " 'Avg_Glucose',\n",
       " 'BMI',\n",
       " 'Hypertension_1 Heart_Disease_1',\n",
       " 'Hypertension_1 Gender_Male',\n",
       " 'Hypertension_1 Ever_Married_Yes',\n",
       " 'Hypertension_1 Type_Of_Work_Never_worked',\n",
       " 'Hypertension_1 Type_Of_Work_Private',\n",
       " 'Hypertension_1 Type_Of_Work_Self-employed',\n",
       " 'Hypertension_1 Type_Of_Work_children',\n",
       " 'Hypertension_1 Residence_Urban',\n",
       " 'Hypertension_1 Smoking_Status_never smoked',\n",
       " 'Hypertension_1 Smoking_Status_smokes',\n",
       " 'Hypertension_1 Smoking_Status_unknown',\n",
       " 'Hypertension_1 Age',\n",
       " 'Hypertension_1 Avg_Glucose',\n",
       " 'Hypertension_1 BMI',\n",
       " 'Heart_Disease_1 Gender_Male',\n",
       " 'Heart_Disease_1 Ever_Married_Yes',\n",
       " 'Heart_Disease_1 Type_Of_Work_Never_worked',\n",
       " 'Heart_Disease_1 Type_Of_Work_Private',\n",
       " 'Heart_Disease_1 Type_Of_Work_Self-employed',\n",
       " 'Heart_Disease_1 Type_Of_Work_children',\n",
       " 'Heart_Disease_1 Residence_Urban',\n",
       " 'Heart_Disease_1 Smoking_Status_never smoked',\n",
       " 'Heart_Disease_1 Smoking_Status_smokes',\n",
       " 'Heart_Disease_1 Smoking_Status_unknown',\n",
       " 'Heart_Disease_1 Age',\n",
       " 'Heart_Disease_1 Avg_Glucose',\n",
       " 'Heart_Disease_1 BMI',\n",
       " 'Gender_Male Ever_Married_Yes',\n",
       " 'Gender_Male Type_Of_Work_Never_worked',\n",
       " 'Gender_Male Type_Of_Work_Private',\n",
       " 'Gender_Male Type_Of_Work_Self-employed',\n",
       " 'Gender_Male Type_Of_Work_children',\n",
       " 'Gender_Male Residence_Urban',\n",
       " 'Gender_Male Smoking_Status_never smoked',\n",
       " 'Gender_Male Smoking_Status_smokes',\n",
       " 'Gender_Male Smoking_Status_unknown',\n",
       " 'Gender_Male Age',\n",
       " 'Gender_Male Avg_Glucose',\n",
       " 'Gender_Male BMI',\n",
       " 'Ever_Married_Yes Type_Of_Work_Never_worked',\n",
       " 'Ever_Married_Yes Type_Of_Work_Private',\n",
       " 'Ever_Married_Yes Type_Of_Work_Self-employed',\n",
       " 'Ever_Married_Yes Type_Of_Work_children',\n",
       " 'Ever_Married_Yes Residence_Urban',\n",
       " 'Ever_Married_Yes Smoking_Status_never smoked',\n",
       " 'Ever_Married_Yes Smoking_Status_smokes',\n",
       " 'Ever_Married_Yes Smoking_Status_unknown',\n",
       " 'Ever_Married_Yes Age',\n",
       " 'Ever_Married_Yes Avg_Glucose',\n",
       " 'Ever_Married_Yes BMI',\n",
       " 'Type_Of_Work_Never_worked Type_Of_Work_Private',\n",
       " 'Type_Of_Work_Never_worked Type_Of_Work_Self-employed',\n",
       " 'Type_Of_Work_Never_worked Type_Of_Work_children',\n",
       " 'Type_Of_Work_Never_worked Residence_Urban',\n",
       " 'Type_Of_Work_Never_worked Smoking_Status_never smoked',\n",
       " 'Type_Of_Work_Never_worked Smoking_Status_smokes',\n",
       " 'Type_Of_Work_Never_worked Smoking_Status_unknown',\n",
       " 'Type_Of_Work_Never_worked Age',\n",
       " 'Type_Of_Work_Never_worked Avg_Glucose',\n",
       " 'Type_Of_Work_Never_worked BMI',\n",
       " 'Type_Of_Work_Private Type_Of_Work_Self-employed',\n",
       " 'Type_Of_Work_Private Type_Of_Work_children',\n",
       " 'Type_Of_Work_Private Residence_Urban',\n",
       " 'Type_Of_Work_Private Smoking_Status_never smoked',\n",
       " 'Type_Of_Work_Private Smoking_Status_smokes',\n",
       " 'Type_Of_Work_Private Smoking_Status_unknown',\n",
       " 'Type_Of_Work_Private Age',\n",
       " 'Type_Of_Work_Private Avg_Glucose',\n",
       " 'Type_Of_Work_Private BMI',\n",
       " 'Type_Of_Work_Self-employed Type_Of_Work_children',\n",
       " 'Type_Of_Work_Self-employed Residence_Urban',\n",
       " 'Type_Of_Work_Self-employed Smoking_Status_never smoked',\n",
       " 'Type_Of_Work_Self-employed Smoking_Status_smokes',\n",
       " 'Type_Of_Work_Self-employed Smoking_Status_unknown',\n",
       " 'Type_Of_Work_Self-employed Age',\n",
       " 'Type_Of_Work_Self-employed Avg_Glucose',\n",
       " 'Type_Of_Work_Self-employed BMI',\n",
       " 'Type_Of_Work_children Residence_Urban',\n",
       " 'Type_Of_Work_children Smoking_Status_never smoked',\n",
       " 'Type_Of_Work_children Smoking_Status_smokes',\n",
       " 'Type_Of_Work_children Smoking_Status_unknown',\n",
       " 'Type_Of_Work_children Age',\n",
       " 'Type_Of_Work_children Avg_Glucose',\n",
       " 'Type_Of_Work_children BMI',\n",
       " 'Residence_Urban Smoking_Status_never smoked',\n",
       " 'Residence_Urban Smoking_Status_smokes',\n",
       " 'Residence_Urban Smoking_Status_unknown',\n",
       " 'Residence_Urban Age',\n",
       " 'Residence_Urban Avg_Glucose',\n",
       " 'Residence_Urban BMI',\n",
       " 'Smoking_Status_never smoked Smoking_Status_smokes',\n",
       " 'Smoking_Status_never smoked Smoking_Status_unknown',\n",
       " 'Smoking_Status_never smoked Age',\n",
       " 'Smoking_Status_never smoked Avg_Glucose',\n",
       " 'Smoking_Status_never smoked BMI',\n",
       " 'Smoking_Status_smokes Smoking_Status_unknown',\n",
       " 'Smoking_Status_smokes Age',\n",
       " 'Smoking_Status_smokes Avg_Glucose',\n",
       " 'Smoking_Status_smokes BMI',\n",
       " 'Smoking_Status_unknown Age',\n",
       " 'Smoking_Status_unknown Avg_Glucose',\n",
       " 'Smoking_Status_unknown BMI',\n",
       " 'Age Avg_Glucose',\n",
       " 'Age BMI',\n",
       " 'Avg_Glucose BMI']"
      ]
     },
     "execution_count": 33,
     "metadata": {},
     "output_type": "execute_result"
    }
   ],
   "source": [
    "features_name_poly"
   ]
  },
  {
   "cell_type": "code",
   "execution_count": 34,
   "metadata": {},
   "outputs": [
    {
     "data": {
      "text/plain": [
       "(59528, 121)"
      ]
     },
     "execution_count": 34,
     "metadata": {},
     "output_type": "execute_result"
    }
   ],
   "source": [
    "X_train_poly= p.fit_transform(X_train_smt)\n",
    "X_train_poly.shape"
   ]
  },
  {
   "cell_type": "code",
   "execution_count": 35,
   "metadata": {},
   "outputs": [],
   "source": [
    "features_poly_train_df = pd.DataFrame(X_train_poly, columns=features_name_poly)"
   ]
  },
  {
   "cell_type": "code",
   "execution_count": 36,
   "metadata": {},
   "outputs": [
    {
     "data": {
      "text/html": [
       "<div>\n",
       "<style scoped>\n",
       "    .dataframe tbody tr th:only-of-type {\n",
       "        vertical-align: middle;\n",
       "    }\n",
       "\n",
       "    .dataframe tbody tr th {\n",
       "        vertical-align: top;\n",
       "    }\n",
       "\n",
       "    .dataframe thead th {\n",
       "        text-align: right;\n",
       "    }\n",
       "</style>\n",
       "<table border=\"1\" class=\"dataframe\">\n",
       "  <thead>\n",
       "    <tr style=\"text-align: right;\">\n",
       "      <th></th>\n",
       "      <th>1</th>\n",
       "      <th>Hypertension_1</th>\n",
       "      <th>Heart_Disease_1</th>\n",
       "      <th>Gender_Male</th>\n",
       "      <th>Ever_Married_Yes</th>\n",
       "      <th>Type_Of_Work_Never_worked</th>\n",
       "      <th>Type_Of_Work_Private</th>\n",
       "      <th>Type_Of_Work_Self-employed</th>\n",
       "      <th>Type_Of_Work_children</th>\n",
       "      <th>Residence_Urban</th>\n",
       "      <th>...</th>\n",
       "      <th>Smoking_Status_smokes Smoking_Status_unknown</th>\n",
       "      <th>Smoking_Status_smokes Age</th>\n",
       "      <th>Smoking_Status_smokes Avg_Glucose</th>\n",
       "      <th>Smoking_Status_smokes BMI</th>\n",
       "      <th>Smoking_Status_unknown Age</th>\n",
       "      <th>Smoking_Status_unknown Avg_Glucose</th>\n",
       "      <th>Smoking_Status_unknown BMI</th>\n",
       "      <th>Age Avg_Glucose</th>\n",
       "      <th>Age BMI</th>\n",
       "      <th>Avg_Glucose BMI</th>\n",
       "    </tr>\n",
       "  </thead>\n",
       "  <tbody>\n",
       "    <tr>\n",
       "      <th>0</th>\n",
       "      <td>1.0</td>\n",
       "      <td>0.0</td>\n",
       "      <td>0.0</td>\n",
       "      <td>0.0</td>\n",
       "      <td>0.0</td>\n",
       "      <td>0.0</td>\n",
       "      <td>0.0</td>\n",
       "      <td>0.0</td>\n",
       "      <td>1.0</td>\n",
       "      <td>0.0</td>\n",
       "      <td>...</td>\n",
       "      <td>0.0</td>\n",
       "      <td>-0.0</td>\n",
       "      <td>-0.0</td>\n",
       "      <td>-0.0</td>\n",
       "      <td>-0.000000</td>\n",
       "      <td>-0.000000</td>\n",
       "      <td>-0.000000</td>\n",
       "      <td>1.470177</td>\n",
       "      <td>3.391429</td>\n",
       "      <td>1.456090</td>\n",
       "    </tr>\n",
       "    <tr>\n",
       "      <th>1</th>\n",
       "      <td>1.0</td>\n",
       "      <td>0.0</td>\n",
       "      <td>0.0</td>\n",
       "      <td>0.0</td>\n",
       "      <td>1.0</td>\n",
       "      <td>0.0</td>\n",
       "      <td>1.0</td>\n",
       "      <td>0.0</td>\n",
       "      <td>0.0</td>\n",
       "      <td>0.0</td>\n",
       "      <td>...</td>\n",
       "      <td>0.0</td>\n",
       "      <td>0.0</td>\n",
       "      <td>-0.0</td>\n",
       "      <td>-0.0</td>\n",
       "      <td>0.481418</td>\n",
       "      <td>-0.355295</td>\n",
       "      <td>-0.384863</td>\n",
       "      <td>-0.171045</td>\n",
       "      <td>-0.185280</td>\n",
       "      <td>0.136740</td>\n",
       "    </tr>\n",
       "    <tr>\n",
       "      <th>2</th>\n",
       "      <td>1.0</td>\n",
       "      <td>0.0</td>\n",
       "      <td>0.0</td>\n",
       "      <td>0.0</td>\n",
       "      <td>0.0</td>\n",
       "      <td>0.0</td>\n",
       "      <td>1.0</td>\n",
       "      <td>0.0</td>\n",
       "      <td>0.0</td>\n",
       "      <td>1.0</td>\n",
       "      <td>...</td>\n",
       "      <td>0.0</td>\n",
       "      <td>-0.0</td>\n",
       "      <td>-0.0</td>\n",
       "      <td>0.0</td>\n",
       "      <td>-0.000000</td>\n",
       "      <td>-0.000000</td>\n",
       "      <td>0.000000</td>\n",
       "      <td>1.068330</td>\n",
       "      <td>-0.316925</td>\n",
       "      <td>-0.316602</td>\n",
       "    </tr>\n",
       "    <tr>\n",
       "      <th>3</th>\n",
       "      <td>1.0</td>\n",
       "      <td>0.0</td>\n",
       "      <td>0.0</td>\n",
       "      <td>0.0</td>\n",
       "      <td>1.0</td>\n",
       "      <td>0.0</td>\n",
       "      <td>1.0</td>\n",
       "      <td>0.0</td>\n",
       "      <td>0.0</td>\n",
       "      <td>1.0</td>\n",
       "      <td>...</td>\n",
       "      <td>0.0</td>\n",
       "      <td>0.0</td>\n",
       "      <td>-0.0</td>\n",
       "      <td>-0.0</td>\n",
       "      <td>0.654836</td>\n",
       "      <td>-0.214100</td>\n",
       "      <td>-0.619654</td>\n",
       "      <td>-0.140200</td>\n",
       "      <td>-0.405771</td>\n",
       "      <td>0.132668</td>\n",
       "    </tr>\n",
       "  </tbody>\n",
       "</table>\n",
       "<p>4 rows × 121 columns</p>\n",
       "</div>"
      ],
      "text/plain": [
       "     1  Hypertension_1  Heart_Disease_1  Gender_Male  Ever_Married_Yes  \\\n",
       "0  1.0             0.0              0.0          0.0               0.0   \n",
       "1  1.0             0.0              0.0          0.0               1.0   \n",
       "2  1.0             0.0              0.0          0.0               0.0   \n",
       "3  1.0             0.0              0.0          0.0               1.0   \n",
       "\n",
       "   Type_Of_Work_Never_worked  Type_Of_Work_Private  \\\n",
       "0                        0.0                   0.0   \n",
       "1                        0.0                   1.0   \n",
       "2                        0.0                   1.0   \n",
       "3                        0.0                   1.0   \n",
       "\n",
       "   Type_Of_Work_Self-employed  Type_Of_Work_children  Residence_Urban  \\\n",
       "0                         0.0                    1.0              0.0   \n",
       "1                         0.0                    0.0              0.0   \n",
       "2                         0.0                    0.0              1.0   \n",
       "3                         0.0                    0.0              1.0   \n",
       "\n",
       "        ...         Smoking_Status_smokes Smoking_Status_unknown  \\\n",
       "0       ...                                                  0.0   \n",
       "1       ...                                                  0.0   \n",
       "2       ...                                                  0.0   \n",
       "3       ...                                                  0.0   \n",
       "\n",
       "   Smoking_Status_smokes Age  Smoking_Status_smokes Avg_Glucose  \\\n",
       "0                       -0.0                               -0.0   \n",
       "1                        0.0                               -0.0   \n",
       "2                       -0.0                               -0.0   \n",
       "3                        0.0                               -0.0   \n",
       "\n",
       "   Smoking_Status_smokes BMI  Smoking_Status_unknown Age  \\\n",
       "0                       -0.0                   -0.000000   \n",
       "1                       -0.0                    0.481418   \n",
       "2                        0.0                   -0.000000   \n",
       "3                       -0.0                    0.654836   \n",
       "\n",
       "   Smoking_Status_unknown Avg_Glucose  Smoking_Status_unknown BMI  \\\n",
       "0                           -0.000000                   -0.000000   \n",
       "1                           -0.355295                   -0.384863   \n",
       "2                           -0.000000                    0.000000   \n",
       "3                           -0.214100                   -0.619654   \n",
       "\n",
       "   Age Avg_Glucose   Age BMI  Avg_Glucose BMI  \n",
       "0         1.470177  3.391429         1.456090  \n",
       "1        -0.171045 -0.185280         0.136740  \n",
       "2         1.068330 -0.316925        -0.316602  \n",
       "3        -0.140200 -0.405771         0.132668  \n",
       "\n",
       "[4 rows x 121 columns]"
      ]
     },
     "execution_count": 36,
     "metadata": {},
     "output_type": "execute_result"
    }
   ],
   "source": [
    "features_poly_train_df.head(4)"
   ]
  },
  {
   "cell_type": "code",
   "execution_count": 37,
   "metadata": {},
   "outputs": [
    {
     "data": {
      "text/plain": [
       "(25510, 121)"
      ]
     },
     "execution_count": 37,
     "metadata": {},
     "output_type": "execute_result"
    }
   ],
   "source": [
    "X_test_poly= p.fit_transform(X_test_smt)\n",
    "X_test_poly.shape"
   ]
  },
  {
   "cell_type": "code",
   "execution_count": 38,
   "metadata": {},
   "outputs": [],
   "source": [
    "features_poly_test_df = pd.DataFrame(X_test_poly, columns=features_name_poly)\n"
   ]
  },
  {
   "cell_type": "code",
   "execution_count": 40,
   "metadata": {
    "scrolled": true
   },
   "outputs": [
    {
     "data": {
      "text/plain": [
       "1                                                     25510.000000\n",
       "Hypertension_1                                         3681.464772\n",
       "Heart_Disease_1                                        2568.655674\n",
       "Gender_Male                                           11274.012769\n",
       "Ever_Married_Yes                                      19955.635819\n",
       "Type_Of_Work_Never_worked                                59.000000\n",
       "Type_Of_Work_Private                                  14928.821818\n",
       "Type_Of_Work_Self-employed                             5697.668784\n",
       "Type_Of_Work_children                                  1892.000000\n",
       "Residence_Urban                                       12533.994943\n",
       "Smoking_Status_never smoked                           10852.915806\n",
       "Smoking_Status_smokes                                  3911.381936\n",
       "Smoking_Status_unknown                                 4998.039643\n",
       "Age                                                   14674.913395\n",
       "Avg_Glucose                                            8597.323413\n",
       "BMI                                                    2371.541581\n",
       "Hypertension_1 Heart_Disease_1                          578.117037\n",
       "Hypertension_1 Gender_Male                             1681.404222\n",
       "Hypertension_1 Ever_Married_Yes                        3284.660024\n",
       "Hypertension_1 Type_Of_Work_Never_worked                  0.000000\n",
       "Hypertension_1 Type_Of_Work_Private                    2175.804505\n",
       "Hypertension_1 Type_Of_Work_Self-employed              1078.821266\n",
       "Hypertension_1 Type_Of_Work_children                      0.000000\n",
       "Hypertension_1 Residence_Urban                         2011.696465\n",
       "Hypertension_1 Smoking_Status_never smoked             1652.892013\n",
       "Hypertension_1 Smoking_Status_smokes                    483.593769\n",
       "Hypertension_1 Smoking_Status_unknown                   583.519933\n",
       "Hypertension_1 Age                                     4116.488543\n",
       "Hypertension_1 Avg_Glucose                             3436.290852\n",
       "Hypertension_1 BMI                                     1439.363320\n",
       "                                                          ...     \n",
       "Type_Of_Work_Self-employed Avg_Glucose                 2133.868717\n",
       "Type_Of_Work_Self-employed BMI                          654.788652\n",
       "Type_Of_Work_children Residence_Urban                   944.000000\n",
       "Type_Of_Work_children Smoking_Status_never smoked      1472.000000\n",
       "Type_Of_Work_children Smoking_Status_smokes               6.000000\n",
       "Type_Of_Work_children Smoking_Status_unknown            385.000000\n",
       "Type_Of_Work_children Age                             -2991.476065\n",
       "Type_Of_Work_children Avg_Glucose                      -504.240954\n",
       "Type_Of_Work_children BMI                             -2124.624880\n",
       "Residence_Urban Smoking_Status_never smoked            5596.393434\n",
       "Residence_Urban Smoking_Status_smokes                  1862.229293\n",
       "Residence_Urban Smoking_Status_unknown                 2302.181179\n",
       "Residence_Urban Age                                    7035.082545\n",
       "Residence_Urban Avg_Glucose                            3595.229849\n",
       "Residence_Urban BMI                                    1076.924795\n",
       "Smoking_Status_never smoked Smoking_Status_smokes        31.078857\n",
       "Smoking_Status_never smoked Smoking_Status_unknown       27.719115\n",
       "Smoking_Status_never smoked Age                        4230.536759\n",
       "Smoking_Status_never smoked Avg_Glucose                4254.568921\n",
       "Smoking_Status_never smoked BMI                         662.836584\n",
       "Smoking_Status_smokes Smoking_Status_unknown             15.601587\n",
       "Smoking_Status_smokes Age                              1972.697390\n",
       "Smoking_Status_smokes Avg_Glucose                      1521.882367\n",
       "Smoking_Status_smokes BMI                               707.928576\n",
       "Smoking_Status_unknown Age                             2744.992162\n",
       "Smoking_Status_unknown Avg_Glucose                      416.777697\n",
       "Smoking_Status_unknown BMI                              108.776482\n",
       "Age Avg_Glucose                                       13469.979709\n",
       "Age BMI                                                6623.338919\n",
       "Avg_Glucose BMI                                        6678.146723\n",
       "Length: 121, dtype: float64"
      ]
     },
     "execution_count": 40,
     "metadata": {},
     "output_type": "execute_result"
    }
   ],
   "source": [
    "features_poly_test_df.sum(axis=0)"
   ]
  },
  {
   "cell_type": "code",
   "execution_count": 41,
   "metadata": {},
   "outputs": [
    {
     "data": {
      "text/plain": [
       "LogisticRegression(C=1.0, class_weight=None, dual=False, fit_intercept=True,\n",
       "          intercept_scaling=1, max_iter=100, multi_class='ovr', n_jobs=1,\n",
       "          penalty='l2', random_state=None, solver='liblinear', tol=0.0001,\n",
       "          verbose=0, warm_start=False)"
      ]
     },
     "execution_count": 41,
     "metadata": {},
     "output_type": "execute_result"
    }
   ],
   "source": [
    "stp_lr = LogisticRegression()\n",
    "stp_lr.fit(X_train_poly, y_train_smt)"
   ]
  },
  {
   "cell_type": "code",
   "execution_count": 42,
   "metadata": {
    "scrolled": false
   },
   "outputs": [
    {
     "name": "stdout",
     "output_type": "stream",
     "text": [
      "Model Performance metrics:\n",
      "------------------------------\n",
      "Accuracy: 0.7752\n",
      "Precision: 0.7757\n",
      "Recall: 0.7752\n",
      "F1 Score: 0.7751\n",
      "\n",
      "Model Classification report:\n",
      "------------------------------\n",
      "             precision    recall  f1-score   support\n",
      "\n",
      "          0       0.79      0.75      0.77     12755\n",
      "          1       0.76      0.80      0.78     12755\n",
      "\n",
      "avg / total       0.78      0.78      0.78     25510\n",
      "\n",
      "\n",
      "Prediction Confusion Matrix:\n",
      "------------------------------\n",
      "          Predicted:       \n",
      "                   0      1\n",
      "Actual: 0       9629   3126\n",
      "        1       2608  10147\n"
     ]
    }
   ],
   "source": [
    "stp_lr_predictions = stp_lr.predict(X_test_poly)\n",
    "meu.display_model_performance_metrics(true_labels=y_test_smt,\n",
    "     predicted_labels=stp_lr_predictions, classes=[0,1])"
   ]
  },
  {
   "cell_type": "markdown",
   "metadata": {},
   "source": [
    "**Conclusion**\n",
    "\n",
    "- Performance (balanced train and test data): 79% accuracy, 78% precision,78% F1 score)\n",
    "- Performance (balanced train and test, with interaction): 78% accuracy, 78% precision,78% F1 score)       \n",
    " - No improvement in performance with interaction features.\n",
    " - We will now select the best features and see if we can improve the performance of the model further. "
   ]
  },
  {
   "cell_type": "markdown",
   "metadata": {},
   "source": [
    "### 4.4 Select Features using most common methods"
   ]
  },
  {
   "cell_type": "markdown",
   "metadata": {},
   "source": [
    "- We will use 3 methods: wrapper, embedding, PCA and test model accuracy for each (logistic regression, as a benchmark). \n",
    "- Note: we won't use chi2 filter method as X attributes are negative."
   ]
  },
  {
   "cell_type": "markdown",
   "metadata": {},
   "source": [
    "#### 4.4.1 Wrapper Method "
   ]
  },
  {
   "cell_type": "markdown",
   "metadata": {},
   "source": [
    "- We rank and score features with the help of a Machine Learning based model estimator called RFE (Recursive Feature Elimination).\n",
    "- We will prune out features with the least importance based on the use of an algorithm (logistic regression) until we reach our target number of features"
   ]
  },
  {
   "cell_type": "code",
   "execution_count": 43,
   "metadata": {},
   "outputs": [],
   "source": [
    "from sklearn.feature_selection import RFE"
   ]
  },
  {
   "cell_type": "markdown",
   "metadata": {},
   "source": [
    "#### The following selection of features may last several minutes"
   ]
  },
  {
   "cell_type": "code",
   "execution_count": 44,
   "metadata": {},
   "outputs": [
    {
     "data": {
      "text/plain": [
       "RFE(estimator=LogisticRegression(C=1.0, class_weight=None, dual=False, fit_intercept=True,\n",
       "          intercept_scaling=1, max_iter=100, multi_class='ovr', n_jobs=1,\n",
       "          penalty='l2', random_state=None, solver='liblinear', tol=0.0001,\n",
       "          verbose=0, warm_start=False),\n",
       "  n_features_to_select=15, step=1, verbose=0)"
      ]
     },
     "execution_count": 44,
     "metadata": {},
     "output_type": "execute_result"
    }
   ],
   "source": [
    "lr = LogisticRegression()\n",
    "rfe=RFE(estimator=lr, n_features_to_select=15, step=1)\n",
    "rfe.fit(X_train_poly, y_train_smt)"
   ]
  },
  {
   "cell_type": "code",
   "execution_count": 45,
   "metadata": {},
   "outputs": [],
   "source": [
    "select_features_rfe = rfe.get_support()"
   ]
  },
  {
   "cell_type": "code",
   "execution_count": 76,
   "metadata": {},
   "outputs": [],
   "source": [
    "selection_rfe=select_features_rfe.tolist()"
   ]
  },
  {
   "cell_type": "code",
   "execution_count": 47,
   "metadata": {
    "scrolled": true
   },
   "outputs": [
    {
     "data": {
      "text/plain": [
       "['Type_Of_Work_Never_worked',\n",
       " 'Type_Of_Work_children',\n",
       " 'Age',\n",
       " 'Heart_Disease_1 Smoking_Status_smokes',\n",
       " 'Gender_Male Type_Of_Work_children',\n",
       " 'Ever_Married_Yes Type_Of_Work_children',\n",
       " 'Type_Of_Work_Private Type_Of_Work_Self-employed',\n",
       " 'Type_Of_Work_Private Type_Of_Work_children',\n",
       " 'Type_Of_Work_Private Smoking_Status_smokes',\n",
       " 'Type_Of_Work_children Age',\n",
       " 'Type_Of_Work_children Avg_Glucose',\n",
       " 'Type_Of_Work_children BMI',\n",
       " 'Smoking_Status_never smoked Smoking_Status_smokes',\n",
       " 'Smoking_Status_never smoked Smoking_Status_unknown',\n",
       " 'Smoking_Status_smokes Smoking_Status_unknown']"
      ]
     },
     "execution_count": 47,
     "metadata": {},
     "output_type": "execute_result"
    }
   ],
   "source": [
    "feature_names_rfe = [x for x, y in zip(features_name_poly, selection_rfe) if y == True]\n",
    "feature_names_rfe"
   ]
  },
  {
   "cell_type": "markdown",
   "metadata": {},
   "source": [
    "- Compare set of features selected via Kbest and rfe"
   ]
  },
  {
   "cell_type": "code",
   "execution_count": 51,
   "metadata": {},
   "outputs": [],
   "source": [
    "#set(feature_names_kbest) & set(feature_names_rfe)"
   ]
  },
  {
   "cell_type": "markdown",
   "metadata": {},
   "source": [
    "- Create X_train_rfe and X_test_rfe"
   ]
  },
  {
   "cell_type": "code",
   "execution_count": 54,
   "metadata": {},
   "outputs": [],
   "source": [
    "X_train_rfe=features_poly_train_df[feature_names_rfe].values"
   ]
  },
  {
   "cell_type": "code",
   "execution_count": 55,
   "metadata": {},
   "outputs": [],
   "source": [
    "X_test_rfe=features_poly_test_df[feature_names_rfe].values"
   ]
  },
  {
   "cell_type": "code",
   "execution_count": 56,
   "metadata": {},
   "outputs": [
    {
     "data": {
      "text/plain": [
       "LogisticRegression(C=1.0, class_weight=None, dual=False, fit_intercept=True,\n",
       "          intercept_scaling=1, max_iter=100, multi_class='ovr', n_jobs=1,\n",
       "          penalty='l2', random_state=None, solver='liblinear', tol=0.0001,\n",
       "          verbose=0, warm_start=False)"
      ]
     },
     "execution_count": 56,
     "metadata": {},
     "output_type": "execute_result"
    }
   ],
   "source": [
    "stp_lr = LogisticRegression()\n",
    "stp_lr.fit(X_train_rfe, y_train_smt)"
   ]
  },
  {
   "cell_type": "code",
   "execution_count": 57,
   "metadata": {},
   "outputs": [
    {
     "name": "stdout",
     "output_type": "stream",
     "text": [
      "Model Performance metrics:\n",
      "------------------------------\n",
      "Accuracy: 0.7816\n",
      "Precision: 0.7844\n",
      "Recall: 0.7816\n",
      "F1 Score: 0.7811\n",
      "\n",
      "Model Classification report:\n",
      "------------------------------\n",
      "             precision    recall  f1-score   support\n",
      "\n",
      "          0       0.81      0.73      0.77     12755\n",
      "          1       0.76      0.83      0.79     12755\n",
      "\n",
      "avg / total       0.78      0.78      0.78     25510\n",
      "\n",
      "\n",
      "Prediction Confusion Matrix:\n",
      "------------------------------\n",
      "          Predicted:       \n",
      "                   0      1\n",
      "Actual: 0       9338   3417\n",
      "        1       2154  10601\n"
     ]
    }
   ],
   "source": [
    "stp_lr_predictions = stp_lr.predict(X_test_rfe)\n",
    "meu.display_model_performance_metrics(true_labels=y_test_smt,\n",
    "     predicted_labels=stp_lr_predictions, classes=[0,1])"
   ]
  },
  {
   "cell_type": "markdown",
   "metadata": {},
   "source": [
    "**Conclusion**\n",
    "\n",
    "- Performance (balanced train and test data): 78% accuracy, 79% precision,78% F1 score)\n",
    "- Performance (balanced train and test, with interaction): 78% accuracy, 78% precision,78% F1 score)  \n",
    "- Performance (... with selection using wrapper method):   78% accuracy, 78% precision, 78% F1 score)\n",
    "\n",
    "- Same as interaction with 15 attributes instead of 121, but not better than original model."
   ]
  },
  {
   "cell_type": "markdown",
   "metadata": {},
   "source": [
    "#### 4.4.2 Model Based Selection"
   ]
  },
  {
   "cell_type": "markdown",
   "metadata": {},
   "source": [
    "- We can use Random forest (an ensemble model) as an embedded feature selection method, where each decision tree model in the ensemble is built by taking a training sample of data from the entire dataset. \n",
    "- This sample is a bootstrap sample (sample taken with replacement). \n",
    "- Splits at any node are taken by choosing the best split from a random subset of the features\n",
    "rather than taking all the features into account. This tend to reduce the variance at a slight bias cost."
   ]
  },
  {
   "cell_type": "code",
   "execution_count": 58,
   "metadata": {},
   "outputs": [
    {
     "data": {
      "text/plain": [
       "RandomForestClassifier(bootstrap=True, class_weight=None, criterion='gini',\n",
       "            max_depth=None, max_features='auto', max_leaf_nodes=None,\n",
       "            min_impurity_decrease=0.0, min_impurity_split=None,\n",
       "            min_samples_leaf=1, min_samples_split=2,\n",
       "            min_weight_fraction_leaf=0.0, n_estimators=10, n_jobs=1,\n",
       "            oob_score=False, random_state=None, verbose=0,\n",
       "            warm_start=False)"
      ]
     },
     "execution_count": 58,
     "metadata": {},
     "output_type": "execute_result"
    }
   ],
   "source": [
    "from sklearn.ensemble import RandomForestClassifier\n",
    "rfc = RandomForestClassifier()\n",
    "rfc.fit(X_train_poly, y_train_smt)"
   ]
  },
  {
   "cell_type": "code",
   "execution_count": 59,
   "metadata": {},
   "outputs": [
    {
     "data": {
      "text/plain": [
       "[('Age', 0.09383815587544964),\n",
       " ('Ever_Married_Yes Age', 0.09131117629967736),\n",
       " ('Type_Of_Work_Private Age', 0.053308525666833105),\n",
       " ('Residence_Urban Age', 0.04832387748519209),\n",
       " ('Gender_Male Age', 0.03111154191028611),\n",
       " ('Ever_Married_Yes', 0.027184173613898945),\n",
       " ('Ever_Married_Yes Avg_Glucose', 0.026972202180553954),\n",
       " ('Hypertension_1 Age', 0.023193795563605058),\n",
       " ('BMI', 0.022758251128641924),\n",
       " ('Avg_Glucose', 0.022707894134797894),\n",
       " ('Ever_Married_Yes BMI', 0.021287177949588502),\n",
       " ('Type_Of_Work_Self-employed Age', 0.020250107276859955),\n",
       " ('Age Avg_Glucose', 0.019826497796251084),\n",
       " ('Avg_Glucose BMI', 0.018777860037233165),\n",
       " ('Age BMI', 0.01757062515650812),\n",
       " ('Smoking_Status_never smoked Age', 0.017539741155862813),\n",
       " ('Type_Of_Work_Private BMI', 0.017295310463692738),\n",
       " ('Residence_Urban Avg_Glucose', 0.016250668441061548),\n",
       " ('Type_Of_Work_Private Avg_Glucose', 0.015957905498177972),\n",
       " ('Residence_Urban BMI', 0.015063739093139272),\n",
       " ('Type_Of_Work_children BMI', 0.013655757631906943),\n",
       " ('Heart_Disease_1 Ever_Married_Yes', 0.013642664399331947),\n",
       " ('Gender_Male Avg_Glucose', 0.013316412265444142),\n",
       " ('Heart_Disease_1 Age', 0.01167764902223811),\n",
       " ('Smoking_Status_never smoked Avg_Glucose', 0.011220267684007622),\n",
       " ('Residence_Urban', 0.011198638517967967),\n",
       " ('Type_Of_Work_Self-employed BMI', 0.010374521281473363),\n",
       " ('Hypertension_1 Ever_Married_Yes', 0.010098672735407899),\n",
       " ('Gender_Male', 0.009648761562795993),\n",
       " ('Type_Of_Work_Private Residence_Urban', 0.009378446477123591)]"
      ]
     },
     "execution_count": 59,
     "metadata": {},
     "output_type": "execute_result"
    }
   ],
   "source": [
    "importance_scores = rfc.feature_importances_\n",
    "feature_importances = [(feature, score) for feature, score in zip(features_name_poly, importance_scores)]\n",
    "sort=sorted(feature_importances, key=lambda x: -x[1])[:30]\n",
    "sort"
   ]
  },
  {
   "cell_type": "code",
   "execution_count": 60,
   "metadata": {},
   "outputs": [
    {
     "data": {
      "text/plain": [
       "['Age',\n",
       " 'Ever_Married_Yes Age',\n",
       " 'Type_Of_Work_Private Age',\n",
       " 'Residence_Urban Age',\n",
       " 'Gender_Male Age',\n",
       " 'Ever_Married_Yes',\n",
       " 'Ever_Married_Yes Avg_Glucose',\n",
       " 'Hypertension_1 Age',\n",
       " 'BMI',\n",
       " 'Avg_Glucose',\n",
       " 'Ever_Married_Yes BMI',\n",
       " 'Type_Of_Work_Self-employed Age',\n",
       " 'Age Avg_Glucose',\n",
       " 'Avg_Glucose BMI',\n",
       " 'Age BMI',\n",
       " 'Smoking_Status_never smoked Age',\n",
       " 'Type_Of_Work_Private BMI',\n",
       " 'Residence_Urban Avg_Glucose',\n",
       " 'Type_Of_Work_Private Avg_Glucose',\n",
       " 'Residence_Urban BMI',\n",
       " 'Type_Of_Work_children BMI',\n",
       " 'Heart_Disease_1 Ever_Married_Yes',\n",
       " 'Gender_Male Avg_Glucose',\n",
       " 'Heart_Disease_1 Age',\n",
       " 'Smoking_Status_never smoked Avg_Glucose',\n",
       " 'Residence_Urban',\n",
       " 'Type_Of_Work_Self-employed BMI',\n",
       " 'Hypertension_1 Ever_Married_Yes',\n",
       " 'Gender_Male',\n",
       " 'Type_Of_Work_Private Residence_Urban']"
      ]
     },
     "execution_count": 60,
     "metadata": {},
     "output_type": "execute_result"
    }
   ],
   "source": [
    "feature_names_rfc=[]\n",
    "for i in range(len(sort)):\n",
    "    feature_names_rfc.extend([sort[i][0]])\n",
    "feature_names_rfc"
   ]
  },
  {
   "cell_type": "code",
   "execution_count": null,
   "metadata": {},
   "outputs": [],
   "source": [
    "#(feature_names_kbest) & set(feature_names_rfc)"
   ]
  },
  {
   "cell_type": "code",
   "execution_count": 61,
   "metadata": {},
   "outputs": [
    {
     "data": {
      "text/plain": [
       "{'Age', 'Type_Of_Work_children BMI'}"
      ]
     },
     "execution_count": 61,
     "metadata": {},
     "output_type": "execute_result"
    }
   ],
   "source": [
    "set(feature_names_rfc) & set(feature_names_rfe)"
   ]
  },
  {
   "cell_type": "code",
   "execution_count": 62,
   "metadata": {},
   "outputs": [],
   "source": [
    "X_train_rfc=features_poly_train_df[feature_names_rfc].values"
   ]
  },
  {
   "cell_type": "code",
   "execution_count": 63,
   "metadata": {},
   "outputs": [],
   "source": [
    "X_test_rfc=features_poly_test_df[feature_names_rfc].values"
   ]
  },
  {
   "cell_type": "code",
   "execution_count": 64,
   "metadata": {},
   "outputs": [
    {
     "data": {
      "text/plain": [
       "LogisticRegression(C=1.0, class_weight=None, dual=False, fit_intercept=True,\n",
       "          intercept_scaling=1, max_iter=100, multi_class='ovr', n_jobs=1,\n",
       "          penalty='l2', random_state=None, solver='liblinear', tol=0.0001,\n",
       "          verbose=0, warm_start=False)"
      ]
     },
     "execution_count": 64,
     "metadata": {},
     "output_type": "execute_result"
    }
   ],
   "source": [
    "stp_lr = LogisticRegression()\n",
    "stp_lr.fit(X_train_rfc, y_train_smt)"
   ]
  },
  {
   "cell_type": "code",
   "execution_count": 66,
   "metadata": {},
   "outputs": [
    {
     "name": "stdout",
     "output_type": "stream",
     "text": [
      "Model Performance metrics:\n",
      "------------------------------\n",
      "Accuracy: 0.7797\n",
      "Precision: 0.781\n",
      "Recall: 0.7797\n",
      "F1 Score: 0.7795\n",
      "\n",
      "Model Classification report:\n",
      "------------------------------\n",
      "             precision    recall  f1-score   support\n",
      "\n",
      "          0       0.80      0.75      0.77     12755\n",
      "          1       0.76      0.81      0.79     12755\n",
      "\n",
      "avg / total       0.78      0.78      0.78     25510\n",
      "\n",
      "\n",
      "Prediction Confusion Matrix:\n",
      "------------------------------\n",
      "          Predicted:       \n",
      "                   0      1\n",
      "Actual: 0       9524   3231\n",
      "        1       2388  10367\n"
     ]
    }
   ],
   "source": [
    "stp_lr_predictions = stp_lr.predict(X_test_rfc)\n",
    "meu.display_model_performance_metrics(true_labels=y_test_smt,\n",
    "predicted_labels=stp_lr_predictions, classes=[0,1])"
   ]
  },
  {
   "cell_type": "markdown",
   "metadata": {},
   "source": [
    "**Conclusion**\n",
    "\n",
    "- Performance (balanced train and test data): 79% accuracy, 78% precision,78% F1 score)\n",
    "- Performance (balanced train and test, with interaction): 78% accuracy, 78% precision,78% F1 score)  \n",
    "- Performance (... with selection using wrapper method):   78% accuracy, 78% precision, 78% F1 score)\n",
    "- Performance (...with selection using random forest):     78% accuracy, 78% precision, 78% F1 score"
   ]
  },
  {
   "cell_type": "markdown",
   "metadata": {},
   "source": [
    "### 4.43 Dimensionality reduction using PCA (feature extraction)"
   ]
  },
  {
   "cell_type": "markdown",
   "metadata": {},
   "source": [
    "- PCA: statistical method that uses the process of linear, orthogonal transformation to transform a higher-dimensional set of features that could be possibly\n",
    "correlated into a lower-dimensional set of linearly uncorrelated features.\n",
    "- feature matrix as (F(n x D)) = USVT. The Principal Components are the vectors in VT"
   ]
  },
  {
   "cell_type": "code",
   "execution_count": 67,
   "metadata": {},
   "outputs": [
    {
     "data": {
      "text/plain": [
       "PCA(copy=True, iterated_power='auto', n_components=30, random_state=None,\n",
       "  svd_solver='auto', tol=0.0, whiten=False)"
      ]
     },
     "execution_count": 67,
     "metadata": {},
     "output_type": "execute_result"
    }
   ],
   "source": [
    "from sklearn.decomposition import PCA\n",
    "pca = PCA(n_components=30)\n",
    "pca.fit(X_train_poly)"
   ]
  },
  {
   "cell_type": "code",
   "execution_count": 68,
   "metadata": {},
   "outputs": [
    {
     "data": {
      "text/plain": [
       "array([0.26421059, 0.11831951, 0.08094241, 0.05185624, 0.04334514,\n",
       "       0.04206976, 0.03154917, 0.02876567, 0.02633163, 0.02518236,\n",
       "       0.02241225, 0.02040666, 0.01801412, 0.01645898, 0.01541512,\n",
       "       0.01312597, 0.01127176, 0.01019904, 0.009639  , 0.00888882,\n",
       "       0.00851573, 0.00776265, 0.00744181, 0.00722526, 0.00701025,\n",
       "       0.00672772, 0.00612581, 0.00566663, 0.00557122, 0.00504344])"
      ]
     },
     "execution_count": 68,
     "metadata": {},
     "output_type": "execute_result"
    }
   ],
   "source": [
    "pca.explained_variance_ratio_"
   ]
  },
  {
   "cell_type": "markdown",
   "metadata": {},
   "source": [
    "Comment: the first 30 extracted features explain 90% of the variance. (top 5 explains 50%)."
   ]
  },
  {
   "cell_type": "code",
   "execution_count": 69,
   "metadata": {},
   "outputs": [
    {
     "data": {
      "text/plain": [
       "array([[-1.14,  4.97, -0.76, ..., -0.07, -0.59,  0.33],\n",
       "       [-1.37, -0.  , -0.37, ..., -0.01, -0.05,  0.09],\n",
       "       [-2.04,  2.07,  0.26, ..., -0.14, -0.77, -0.4 ],\n",
       "       ...,\n",
       "       [-0.92, -0.72,  2.05, ..., -0.21, -0.15, -0.02],\n",
       "       [-1.99, -0.38,  0.21, ..., -0.12,  0.1 , -0.01],\n",
       "       [-2.  , -1.99, -0.92, ...,  0.08, -0.25, -0.15]])"
      ]
     },
     "execution_count": 69,
     "metadata": {},
     "output_type": "execute_result"
    }
   ],
   "source": [
    "X_train_pca = pca.transform(X_train_poly)\n",
    "np.round(X_train_pca, 2)"
   ]
  },
  {
   "cell_type": "code",
   "execution_count": 70,
   "metadata": {},
   "outputs": [
    {
     "data": {
      "text/plain": [
       "PCA(copy=True, iterated_power='auto', n_components=30, random_state=None,\n",
       "  svd_solver='auto', tol=0.0, whiten=False)"
      ]
     },
     "execution_count": 70,
     "metadata": {},
     "output_type": "execute_result"
    }
   ],
   "source": [
    "pca = PCA(n_components=30)\n",
    "pca.fit(X_train_poly)"
   ]
  },
  {
   "cell_type": "code",
   "execution_count": 71,
   "metadata": {},
   "outputs": [],
   "source": [
    "X_test_pca = pca.transform(X_test_poly)"
   ]
  },
  {
   "cell_type": "code",
   "execution_count": 72,
   "metadata": {},
   "outputs": [
    {
     "data": {
      "text/plain": [
       "LogisticRegression(C=1.0, class_weight=None, dual=False, fit_intercept=True,\n",
       "          intercept_scaling=1, max_iter=100, multi_class='ovr', n_jobs=1,\n",
       "          penalty='l2', random_state=None, solver='liblinear', tol=0.0001,\n",
       "          verbose=0, warm_start=False)"
      ]
     },
     "execution_count": 72,
     "metadata": {},
     "output_type": "execute_result"
    }
   ],
   "source": [
    "stp_lr = LogisticRegression()\n",
    "stp_lr.fit(X_train_pca, y_train_smt)"
   ]
  },
  {
   "cell_type": "code",
   "execution_count": 73,
   "metadata": {},
   "outputs": [
    {
     "name": "stdout",
     "output_type": "stream",
     "text": [
      "Model Performance metrics:\n",
      "------------------------------\n",
      "Accuracy: 0.7759\n",
      "Precision: 0.7762\n",
      "Recall: 0.7759\n",
      "F1 Score: 0.7758\n",
      "\n",
      "Model Classification report:\n",
      "------------------------------\n",
      "             precision    recall  f1-score   support\n",
      "\n",
      "          0       0.79      0.76      0.77     12755\n",
      "          1       0.77      0.79      0.78     12755\n",
      "\n",
      "avg / total       0.78      0.78      0.78     25510\n",
      "\n",
      "\n",
      "Prediction Confusion Matrix:\n",
      "------------------------------\n",
      "          Predicted:       \n",
      "                   0      1\n",
      "Actual: 0       9668   3087\n",
      "        1       2631  10124\n"
     ]
    }
   ],
   "source": [
    "stp_lr_predictions = stp_lr.predict(X_test_pca)\n",
    "meu.display_model_performance_metrics(true_labels=y_test_smt,\n",
    "predicted_labels=stp_lr_predictions, classes=[0,1])"
   ]
  },
  {
   "cell_type": "markdown",
   "metadata": {},
   "source": [
    "\n",
    "**Conclusion**\n",
    "- Performance (balanced train and test data): 79% accuracy, 79% precision,78% F1 score)\n",
    "- Performance (balanced train and test, with interaction): 78% accuracy, 78% precision,78% F1 score)  \n",
    "- Performance (... with selection using wrapper method):   78% accuracy, 78% precision, 78% F1 score)\n",
    "- Performance (...with selection using random forest):     78% accuracy, 78% precision, 78% F1 score   \n",
    "- Performance (...with extraction using PCA):              78% accuracy, 78% precision, 78% F1 score\n",
    "    - Note: PCA offers similar scores as Random Forest, CHi2, but more difficult to explain the features). \n",
    "\n",
    "- Next: \n",
    "  - We will now test different models based on the list of features selected using wrapper method\n",
    "  - If time allows, we will also check if we can improve the features by binning some of them."
   ]
  },
  {
   "cell_type": "markdown",
   "metadata": {},
   "source": [
    "** Saving the variables for use in next Notebook**"
   ]
  },
  {
   "cell_type": "code",
   "execution_count": 96,
   "metadata": {},
   "outputs": [],
   "source": [
    "# We use pickle to save our variables\n",
    "\n",
    "## Save the train /test variables with rebalanced classes\n",
    "with open('train_smt.pickle', 'wb') as f:\n",
    "    pickle.dump([X_train_smt, y_train_smt], f)\n",
    "     \n",
    "with open('test_smt.pickle', 'wb') as f:\n",
    "    pickle.dump([X_test_smt, y_test_smt], f)\n",
    "\n",
    "## Save features names\n",
    "with open('stp_features_names.pickle', 'wb') as f:\n",
    "    pickle.dump([list(stp_features_names)], f)\n",
    "    \n",
    "    \n",
    "\n",
    "## Save the test variables \n",
    "\n",
    "with open('test.pickle', 'wb') as f:\n",
    "    pickle.dump([stp_test_X, stp_test_y], f)\n",
    "    \n",
    "## Save Rfe selected features names\n",
    "#with open('feature_names_rfe.pickle', 'wb') as f:\n",
    " #   pickle.dump([feature_names_rfe], f)\n",
    "    \n"
   ]
  },
  {
   "cell_type": "markdown",
   "metadata": {},
   "source": [
    "## 5 Binning"
   ]
  },
  {
   "cell_type": "code",
   "execution_count": null,
   "metadata": {},
   "outputs": [],
   "source": [
    "3. Analysis of the model without feature engineering"
   ]
  },
  {
   "cell_type": "code",
   "execution_count": null,
   "metadata": {},
   "outputs": [],
   "source": [
    "\n",
    "Testing multiple models \n",
    "\n",
    "https://www.kaggle.com/tflare/testing-multiple-models-with-scikit-learn-0-79425\n",
    "\n",
    "Grid search\n",
    "https://www.kdnuggets.com/2018/01/managing-machine-learning-workflows-scikit-learn-pipelines-part-3.html\n",
    "    "
   ]
  },
  {
   "cell_type": "code",
   "execution_count": null,
   "metadata": {},
   "outputs": [],
   "source": [
    "MODEL APPROACH\n",
    "\n",
    "1 TRY THE MODEL \n",
    "0. Hot encode the data \n",
    "1. run a simple model (without downsampling) Log Reg. Gives the baseline\n",
    "2. down sample . Re run de model\n",
    "3. Normalize / scale Re run the model\n",
    "4. Bin (age, ...) run the model \n",
    "(+/-) of binning.\n",
    "https://stats.stackexchange.com/questions/68834/what-is-the-benefit-of-breaking-up-a-continuous-predictor-variable\n",
    "\n",
    "or \n",
    "3.  Bin\n",
    "4. normalize run the model \n",
    "\n",
    "Show the result with F1 score with Cross validation (if poss)\n",
    "\n",
    "Once you have the right set up. \n",
    "\n",
    "2. MULTIPLE MODEL COMPARISON\n",
    "Perform the model wtih multiple model comparison (grid search...)\n",
    "\n",
    "Feature selection and selecting multiple models \n",
    "https://scikit-learn.org/stable/modules/feature_selection.html\n",
    "\n",
    "Testing multiple models \n",
    "\n",
    "https://www.kaggle.com/tflare/testing-multiple-models-with-scikit-learn-0-79425\n",
    "\n",
    "Grid search\n",
    "https://www.kdnuggets.com/2018/01/managing-machine-learning-workflows-scikit-learn-pipelines-part-3.html\n",
    "    \n"
   ]
  },
  {
   "cell_type": "code",
   "execution_count": 113,
   "metadata": {},
   "outputs": [
    {
     "data": {
      "text/plain": [
       "['Age',\n",
       " 'Type_Of_Work_Govt_job Type_Of_Work_Private',\n",
       " 'Type_Of_Work_Govt_job Type_Of_Work_Self-employed',\n",
       " 'Type_Of_Work_Private Type_Of_Work_Self-employed',\n",
       " 'Smoking_Status_formerly smoked Smoking_Status_smokes',\n",
       " 'Smoking_Status_formerly smoked Smoking_Status_unknown',\n",
       " 'Smoking_Status_never smoked Smoking_Status_unknown',\n",
       " 'Smoking_Status_smokes Smoking_Status_unknown']"
      ]
     },
     "execution_count": 113,
     "metadata": {},
     "output_type": "execute_result"
    }
   ],
   "source": [
    "a = feature_names_rfe\n",
    "for c in ['Hypertension_0 Hypertension_1','Heart_Disease_0 Heart_Disease_1','Gender_Female Gender_Male',\n",
    "          'Ever_Married_No Ever_Married_Yes','Residence_Rural Residence_Urban',\n",
    "          'Smoking_Status_never smoked Smoking_Status_smokes',\n",
    "          'Smoking_Status_formerly smoked Smoking_Status_never smoked']:\n",
    "    if c in a:\n",
    "        a.remove(c)\n",
    "a"
   ]
  },
  {
   "cell_type": "code",
   "execution_count": null,
   "metadata": {},
   "outputs": [],
   "source": [
    "4. Analysis of the model with feature engineering"
   ]
  },
  {
   "cell_type": "code",
   "execution_count": null,
   "metadata": {},
   "outputs": [],
   "source": [
    "Feature engineering: adding interaction terms \n",
    "\n",
    "https://chrisalbon.com/machine_learning/linear_regression/adding_interaction_terms/\n",
    "    "
   ]
  },
  {
   "cell_type": "code",
   "execution_count": null,
   "metadata": {},
   "outputs": [],
   "source": [
    "Model Explainability: \n",
    "    \n",
    "Use LIME or SHP to explain variables which have the most impact."
   ]
  }
 ],
 "metadata": {
  "kernelspec": {
   "display_name": "Python 3",
   "language": "python",
   "name": "python3"
  },
  "language_info": {
   "codemirror_mode": {
    "name": "ipython",
    "version": 3
   },
   "file_extension": ".py",
   "mimetype": "text/x-python",
   "name": "python",
   "nbconvert_exporter": "python",
   "pygments_lexer": "ipython3",
   "version": "3.6.5"
  }
 },
 "nbformat": 4,
 "nbformat_minor": 2
}
